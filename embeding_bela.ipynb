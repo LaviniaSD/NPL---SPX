{
  "cells": [
    {
      "cell_type": "markdown",
      "metadata": {
        "id": "4u9pqrG8eWNV"
      },
      "source": [
        "# Classificação de tópicos por embedding"
      ]
    },
    {
      "cell_type": "markdown",
      "metadata": {
        "id": "8RPmlyDueWNW"
      },
      "source": [
        "Importe as bibliotecas necessárias"
      ]
    },
    {
      "cell_type": "code",
      "execution_count": 1,
      "metadata": {
        "colab": {
          "base_uri": "https://localhost:8080/"
        },
        "id": "PYIze6Xoemhp",
        "outputId": "df4c8b3b-0e66-49b0-bc10-7305406d499e"
      },
      "outputs": [
        {
          "name": "stdout",
          "output_type": "stream",
          "text": [
            "Collecting langdetect\n",
            "  Downloading langdetect-1.0.9.tar.gz (981 kB)\n",
            "     ---------------------------------------- 0.0/981.5 kB ? eta -:--:--\n",
            "     ---------------------------------------- 10.2/981.5 kB ? eta -:--:--\n",
            "     --- ----------------------------------- 81.9/981.5 kB 1.2 MB/s eta 0:00:01\n",
            "     ------------------------ ------------- 634.9/981.5 kB 5.0 MB/s eta 0:00:01\n",
            "     -------------------------------------- 981.5/981.5 kB 6.9 MB/s eta 0:00:00\n",
            "  Installing build dependencies: started\n",
            "  Installing build dependencies: finished with status 'done'\n",
            "  Getting requirements to build wheel: started\n",
            "  Getting requirements to build wheel: finished with status 'done'\n",
            "  Installing backend dependencies: started\n",
            "  Installing backend dependencies: finished with status 'done'\n",
            "  Preparing metadata (pyproject.toml): started\n",
            "  Preparing metadata (pyproject.toml): finished with status 'done'\n",
            "Requirement already satisfied: six in c:\\users\\georg\\appdata\\roaming\\python\\python311\\site-packages (from langdetect) (1.16.0)\n",
            "Building wheels for collected packages: langdetect\n",
            "  Building wheel for langdetect (pyproject.toml): started\n",
            "  Building wheel for langdetect (pyproject.toml): finished with status 'done'\n",
            "  Created wheel for langdetect: filename=langdetect-1.0.9-py3-none-any.whl size=993255 sha256=22b4065152759f16974e3b4ccceb1e54df814934e6bc5ed9b77a751b6217443b\n",
            "  Stored in directory: c:\\users\\georg\\appdata\\local\\pip\\cache\\wheels\\0a\\f2\\b2\\e5ca405801e05eb7c8ed5b3b4bcf1fcabcd6272c167640072e\n",
            "Successfully built langdetect\n",
            "Installing collected packages: langdetect\n",
            "Successfully installed langdetect-1.0.9\n"
          ]
        }
      ],
      "source": [
        "! pip install langdetect"
      ]
    },
    {
      "cell_type": "code",
      "execution_count": 3,
      "metadata": {
        "colab": {
          "base_uri": "https://localhost:8080/",
          "height": 401
        },
        "id": "yketaz1QeWNW",
        "outputId": "10c3610b-6d9e-43d9-875d-99b123654ce8"
      },
      "outputs": [
        {
          "name": "stderr",
          "output_type": "stream",
          "text": [
            "[nltk_data] Downloading package punkt to\n",
            "[nltk_data]     C:\\Users\\georg\\AppData\\Roaming\\nltk_data...\n",
            "[nltk_data]   Package punkt is already up-to-date!\n"
          ]
        }
      ],
      "source": [
        "# Importing libraries\n",
        "import regex as re\n",
        "from transformers import BertTokenizer, BertForSequenceClassification, BertModel\n",
        "from sklearn.feature_extraction.text import TfidfVectorizer\n",
        "from sklearn.cluster import KMeans\n",
        "from sklearn.preprocessing import LabelEncoder\n",
        "from langdetect import detect\n",
        "from collections import Counter\n",
        "from sklearn.linear_model import LogisticRegression\n",
        "from sklearn.svm import SVC\n",
        "import spacy\n",
        "import nltk\n",
        "nltk.download('punkt')\n",
        "import pandas as pd\n",
        "import matplotlib.pyplot as plt\n"
      ]
    },
    {
      "cell_type": "markdown",
      "metadata": {
        "id": "GwHWzcbKeWNX"
      },
      "source": [
        "Separação dos texto por frases"
      ]
    },
    {
      "cell_type": "code",
      "execution_count": 5,
      "metadata": {
        "id": "xTR9--9eeWNX"
      },
      "outputs": [],
      "source": [
        "\n",
        "# Load the spacy model\n",
        "nlp = spacy.load('en_core_web_sm')\n",
        "\n",
        "# Load data\n",
        "data = pd.read_csv('all_ECB_speeches.csv', sep='|')\n",
        "\n",
        "# Function to detect language of a given text\n",
        "def detect_language(text):\n",
        "    try:\n",
        "        lang = detect(text)\n",
        "    except:\n",
        "        lang = \"Unknown\"\n",
        "    return lang\n",
        "\n",
        "# Apply the language detection function to each text in your DataFrame\n",
        "data['language'] = data['contents'].apply(detect_language)\n",
        "\n",
        "# Filter out the texts that are not in English\n",
        "data = data[data['language'] == 'en']\n",
        "\n",
        "# Drop null values\n",
        "data = data.dropna(subset=['speakers', 'contents'])\n",
        "\n",
        "# Reset index\n",
        "data = data.reset_index(drop=True)\n",
        "\n",
        "# Remove introduction\n",
        "for row in range(data.shape[0]):\n",
        "    try:\n",
        "        speech = re.split(\" \\d+ (January|February|March|April|May|June|July|August|September|October|November|December) \\d{4} \", data.loc[row, \"contents\"])\n",
        "        data.loc[row, \"contents\"] = speech[-1]\n",
        "    except:\n",
        "        pass\n",
        "\n",
        "# Split into sentences using spacy\n",
        "def split_into_sentences(text):\n",
        "    doc = nlp(text)\n",
        "    sentences = [sent.text for sent in doc.sents]\n",
        "    return sentences\n",
        "\n",
        "sentences_list = []\n",
        "for row in range(data.shape[0]):\n",
        "    text = data.loc[row, \"contents\"]\n",
        "    sentences = split_into_sentences(text)\n",
        "    sentences_list.append(sentences)\n",
        "data['sentences'] = sentences_list\n",
        "\n",
        "# Explode the sentences column to have one sentence per row\n",
        "sentences_df = data.explode('sentences').reset_index(drop=True)\n",
        "\n",
        "sentences_df.to_csv('sentences_df.csv', index=False)\n"
      ]
    },
    {
      "cell_type": "markdown",
      "metadata": {
        "id": "30hOxB4MeWNY"
      },
      "source": [
        "Lê o dataframe das sentenças e lê as predições feitas manualmente"
      ]
    },
    {
      "cell_type": "code",
      "execution_count": 36,
      "metadata": {
        "id": "3Kk6OcO1eWNY"
      },
      "outputs": [],
      "source": [
        "sentences_df = pd.read_csv('sentences_df.csv')\n",
        "my_predictions = pd.read_excel('my_predictions.xlsx')\n",
        "predictions_adjusted = pd.read_csv('predictions_adjusted.csv')"
      ]
    },
    {
      "cell_type": "code",
      "execution_count": 37,
      "metadata": {
        "id": "myRNagTsN94X"
      },
      "outputs": [
        {
          "name": "stdout",
          "output_type": "stream",
          "text": [
            "              precision    recall  f1-score   support\n",
            "\n",
            "    Negative       0.22      0.22      0.22        18\n",
            "     Neutral       0.69      0.27      0.39        66\n",
            "    Positive       0.20      0.79      0.32        14\n",
            "     Unknown       0.00      0.00      0.00         1\n",
            "\n",
            "    accuracy                           0.33        99\n",
            "   macro avg       0.28      0.32      0.23        99\n",
            "weighted avg       0.53      0.33      0.35        99\n",
            "\n"
          ]
        },
        {
          "name": "stderr",
          "output_type": "stream",
          "text": [
            "[nltk_data] Downloading package vader_lexicon to\n",
            "[nltk_data]     C:\\Users\\georg\\AppData\\Roaming\\nltk_data...\n",
            "[nltk_data]   Package vader_lexicon is already up-to-date!\n",
            "c:\\Users\\georg\\AppData\\Local\\Programs\\Python\\Python311\\Lib\\site-packages\\sklearn\\metrics\\_classification.py:1509: UndefinedMetricWarning: Precision is ill-defined and being set to 0.0 in labels with no predicted samples. Use `zero_division` parameter to control this behavior.\n",
            "  _warn_prf(average, modifier, f\"{metric.capitalize()} is\", len(result))\n",
            "c:\\Users\\georg\\AppData\\Local\\Programs\\Python\\Python311\\Lib\\site-packages\\sklearn\\metrics\\_classification.py:1509: UndefinedMetricWarning: Precision is ill-defined and being set to 0.0 in labels with no predicted samples. Use `zero_division` parameter to control this behavior.\n",
            "  _warn_prf(average, modifier, f\"{metric.capitalize()} is\", len(result))\n",
            "c:\\Users\\georg\\AppData\\Local\\Programs\\Python\\Python311\\Lib\\site-packages\\sklearn\\metrics\\_classification.py:1509: UndefinedMetricWarning: Precision is ill-defined and being set to 0.0 in labels with no predicted samples. Use `zero_division` parameter to control this behavior.\n",
            "  _warn_prf(average, modifier, f\"{metric.capitalize()} is\", len(result))\n"
          ]
        }
      ],
      "source": [
        "import nltk\n",
        "nltk.download('vader_lexicon')\n",
        "from nltk.sentiment.vader import SentimentIntensityAnalyzer\n",
        "from nltk import tokenize\n",
        "predictions_adjusted = pd.read_csv('predictions_adjusted.csv')\n",
        "predictions_adjusted = predictions_adjusted.loc[:, ~predictions_adjusted.columns.str.contains('^Unnamed')]\n",
        "predictions_adjusted = predictions_adjusted.dropna(axis=1, how='all')\n",
        "predictions_adjusted['Sentiment '].fillna('Unknown', inplace=True)\n",
        "predictions_adjusted.head()\n",
        "\n",
        "sid = SentimentIntensityAnalyzer()\n",
        "\n",
        "def classify_sentiment(text):\n",
        "    scores = sid.polarity_scores(text)\n",
        "    compound_score = scores['compound']\n",
        "    if compound_score >= 0.05:\n",
        "        return 'Positive'\n",
        "    elif compound_score <= -0.05:\n",
        "        return 'Negative'\n",
        "    else:\n",
        "        return 'Neutral'\n",
        "\n",
        "predictions_adjusted['predicted_sentiment'] = predictions_adjusted['sentences'].apply(classify_sentiment)\n",
        "\n",
        "from sklearn.metrics import classification_report\n",
        "\n",
        "print(classification_report(predictions_adjusted['Sentiment '], predictions_adjusted['predicted_sentiment']))\n"
      ]
    },
    {
      "cell_type": "code",
      "execution_count": 38,
      "metadata": {
        "colab": {
          "base_uri": "https://localhost:8080/"
        },
        "id": "1pHbZw9Bp3kG",
        "outputId": "df66022e-1805-4176-ee43-980ed3f78a59"
      },
      "outputs": [
        {
          "name": "stdout",
          "output_type": "stream",
          "text": [
            "   RowNumber                Topic  \\\n",
            "0      10279  Atividade econômica   \n",
            "1     205159  Atividade econômica   \n",
            "2       3970               Nenhum   \n",
            "3     115698               Nenhum   \n",
            "4      55063  Atividade econômica   \n",
            "\n",
            "                                           sentences Sentiment   \\\n",
            "0  Here in Estonia, wage growth is currently runn...   Negative   \n",
            "1  The other half seems to be explained by a sign...   Negative   \n",
            "2  Since our policies operate with lags, we canno...    Neutral   \n",
            "3  The preparations are steered by a High-Level G...    Neutral   \n",
            "4  First, the impact of reshoring and the automat...    Neutral   \n",
            "\n",
            "  predicted_sentiment  \n",
            "0            Positive  \n",
            "1            Positive  \n",
            "2            Positive  \n",
            "3             Neutral  \n",
            "4            Positive  \n"
          ]
        }
      ],
      "source": [
        "print(predictions_adjusted.head())"
      ]
    },
    {
      "cell_type": "markdown",
      "metadata": {
        "id": "c6x_0SYMeWNY"
      },
      "source": [
        "Coloque as frases classificadas no dataframe de sentenças"
      ]
    },
    {
      "cell_type": "code",
      "execution_count": 39,
      "metadata": {
        "id": "m0-XdH98s0K5"
      },
      "outputs": [],
      "source": [
        "merged_df = sentences_df.merge(predictions_adjusted, on='sentences', how='left')\n",
        "merged_df['Topic'].fillna('-', inplace=True)\n",
        "merged_df['Sentiment '].fillna('-', inplace=True)"
      ]
    },
    {
      "cell_type": "code",
      "execution_count": 40,
      "metadata": {
        "id": "e3VdnWx2NBtd"
      },
      "outputs": [
        {
          "data": {
            "text/plain": [
              "Index(['date', 'speakers', 'title', 'subtitle', 'contents', 'language',\n",
              "       'sentences', 'RowNumber', 'Topic', 'Sentiment ', 'predicted_sentiment'],\n",
              "      dtype='object')"
            ]
          },
          "execution_count": 40,
          "metadata": {},
          "output_type": "execute_result"
        }
      ],
      "source": [
        "merged_df.columns"
      ]
    },
    {
      "cell_type": "markdown",
      "metadata": {
        "id": "zaDd1-xMeWNZ"
      },
      "source": [
        "### Treine o modelo"
      ]
    },
    {
      "cell_type": "markdown",
      "metadata": {
        "id": "Pvh7GsPKeWNZ"
      },
      "source": [
        "Crie um embedding para as sentenças classificadas"
      ]
    },
    {
      "cell_type": "code",
      "execution_count": 41,
      "metadata": {
        "id": "ie6Oh7RK2E6w"
      },
      "outputs": [],
      "source": [
        "df_labeled = merged_df[merged_df['Topic'] != '-']"
      ]
    },
    {
      "cell_type": "code",
      "execution_count": 42,
      "metadata": {
        "colab": {
          "base_uri": "https://localhost:8080/",
          "height": 509,
          "referenced_widgets": [
            "ee2d8868cc3045bcb37af4374e9ec602",
            "fc14dd47260d414ab3f6d98e5228e9c7",
            "551166b7b29d44c59d0417d90b11a243",
            "ae9ff57c9b444548b2c6840dde6124ad",
            "7e4b60779b7d4fb9adebdfbbc8569c22",
            "e9316788f3764a80b02f723e245d2228",
            "a488981ba58c49e7ba6a82f050ecde2b",
            "c5b5eb97ec0a4922832d913c1596f987",
            "fb3e72f833554ccdae258830912a007d",
            "ef2b14f0b3974055be960af4b4cf86e0",
            "0ce361dd11fc4c538662598713a9ae38",
            "13bb9bfeafe7491897495401a18b1f89",
            "2ae79c731a9548d28a6ad850d17c4a57",
            "1cec8fc05e444acfa9929c1a4f17fadf",
            "53f0e6659616414f9eb416d7124b8133",
            "ab80da623bd94480a124080f29c83f01",
            "abb67ab1bee049c6aa2982449f25a054",
            "974eea6d1cfa4c9a9167c3054cf780e1",
            "4c2dbc1c2ba54a7e9d3c0305bc706fe5",
            "c60121d89e034cf09b66317cc01d8545",
            "ca575930c43240ad84b97d09875aae20",
            "ddc500de27bd430ca637cb464270ddf6",
            "a16388881d214b20ac4c166572175779",
            "a7e3a705dc31477eb48fff4490599519",
            "5aa07b89d8a7440580a7c6ab046930ee",
            "f1082345cf01441eb177604da791ea4d",
            "4f1f49fe7ade4382b4925d361c16d1e3",
            "8a3b914a2ed84c9091a645b1d42242de",
            "23542ceb4d6341e497a36dcf98a65756",
            "ba5cde70564c4415ab83244332710610",
            "c188bc725054439baa0f4d41032d36a1",
            "4893b523423140aebf76839e86787c25",
            "4ebde899df014e429d2fb938c95eab1b",
            "84b45cc165c04fe4a1e2a6f2e575918e",
            "5bb76be84d8446759c4c206671d6715f",
            "107b1ddd3bd3417aa74152b413fc18c1",
            "4ea19a47543945419a9dba48f8a6c795",
            "c568efc6c27e402a8b32f2aea465f0cd",
            "d335cb08da1544129255b9af02b587da",
            "90387621b2104e3a9be78421d29bdeaa",
            "4b1481e0f3a442cfbf3f2fb347d85c4b",
            "92e6175ddb3045dabed2b971ee36a197",
            "30df00516e344707a91b5c0ff3139a4a",
            "ba6bdfab98774d21b4e3a318a822c04c",
            "8473a5d545134bc49d1509ef95cb7cc1",
            "e434b4229e7440f38100bd05e6811739",
            "2dffc2e6459b4a249b80429d9d0829bd",
            "5611e52c0f1e403d99ff6db7b554ae4b",
            "734ba91e31334c9eb6c89e1a4cd8d021",
            "e75d9d44e3714c56997a2bf97f490e09",
            "a570c92ff0da4210a03ab4b06947b7fc",
            "51cebb22c9f8453f8aef2ea4d3ed80a9",
            "fb4a6b858b6c41748ebbc5b1b40bd11a",
            "884a9464c0844603b4e124866f2798ad",
            "34232542f878494aa46c0bdfb2fff76e"
          ]
        },
        "id": "FRiFLjqzeWNZ",
        "outputId": "1fc0662e-9bf7-4c5e-b1f4-b8cfa6a51a6b"
      },
      "outputs": [
        {
          "name": "stderr",
          "output_type": "stream",
          "text": [
            "C:\\Users\\georg\\AppData\\Local\\Temp\\ipykernel_21688\\4279091857.py:18: SettingWithCopyWarning: \n",
            "A value is trying to be set on a copy of a slice from a DataFrame.\n",
            "Try using .loc[row_indexer,col_indexer] = value instead\n",
            "\n",
            "See the caveats in the documentation: https://pandas.pydata.org/pandas-docs/stable/user_guide/indexing.html#returning-a-view-versus-a-copy\n",
            "  df_labeled['embeddings'] = df_labeled['sentences'].apply(embed_sentence)\n"
          ]
        }
      ],
      "source": [
        "from transformers import DistilBertTokenizer, DistilBertModel\n",
        "import torch\n",
        "\n",
        "# Carregar o tokenizer e o modelo\n",
        "tokenizer = DistilBertTokenizer.from_pretrained('distilbert-base-uncased')\n",
        "model = DistilBertModel.from_pretrained('distilbert-base-uncased')\n",
        "\n",
        "def embed_sentence(sentence):\n",
        "    inputs = tokenizer(sentence, return_tensors='pt', truncation=True, padding=True)\n",
        "    with torch.no_grad():\n",
        "        outputs = model(**inputs)\n",
        "    # Utilize a média dos embeddings da última camada\n",
        "    embeddings = outputs.last_hidden_state.mean(dim=1)\n",
        "\n",
        "    return embeddings.squeeze().numpy()\n",
        "\n",
        "# Gerar embeddings para todas as sentenças\n",
        "df_labeled['embeddings'] = df_labeled['sentences'].apply(embed_sentence)\n"
      ]
    },
    {
      "cell_type": "markdown",
      "metadata": {
        "id": "JCfCaMvdeWNZ"
      },
      "source": [
        "Separe em treino e teste"
      ]
    },
    {
      "cell_type": "code",
      "execution_count": 43,
      "metadata": {
        "id": "5g3Uhh_veWNZ"
      },
      "outputs": [],
      "source": [
        "from sklearn.model_selection import train_test_split\n",
        "\n",
        "# Dividir os dados em conjuntos de treino e teste\n",
        "X = list(df_labeled['embeddings'])\n",
        "y = df_labeled['Topic']\n",
        "# Separe 2 de 0.8 para treino e 0.2 para teste em cada tópico\n",
        "X_train, X_test, y_train, y_test = train_test_split(X, y, test_size=0.2, stratify=y, random_state=42)\n",
        "\n"
      ]
    },
    {
      "cell_type": "markdown",
      "metadata": {
        "id": "2yA13ngVeWNZ"
      },
      "source": [
        "Treine o classificador e avalie o conjunto de teste"
      ]
    },
    {
      "cell_type": "markdown",
      "metadata": {
        "id": "IjzXmA9cB9to"
      },
      "source": [
        "Precision: A precisão é a proporção de identificações positivas que foram corretamente classificadas. É calculada como o número de verdadeiros positivos dividido pela soma de verdadeiros positivos e falsos positivos.\n",
        "\n",
        "Sensibilidade ou taxa de verdadeiro positivo: O recall é a proporção de casos positivos reais que foram corretamente identificados pelo modelo.\n",
        "\n",
        "F1-Score: É a média harmônica entre precisão e recall. É útil quando você deseja balancear precisão e recall. Um F1-Score perfeito é 1.00, o que indica precisão e recall perfeitos.\n",
        "\n",
        " Support: Refere-se ao número de ocorrências reais da classe no conjunto de dados especificado.\n",
        "\n",
        " Acurácia: É a proporção de previsões corretas, tanto verdadeiros positivos quanto verdadeiros negativos, em relação ao total de casos examinados.\n",
        "\n",
        " Macro Average: Calcula a média das métricas precisão, recall, F1-score para cada classe, sem levar em conta o suporte número de instâncias para cada classe.\n",
        " Weighted Average: Calcula a média das métricas considerando o suporte de cada classe. Isso significa que as classes com mais instâncias têm mais peso no cálculo da média."
      ]
    },
    {
      "cell_type": "code",
      "execution_count": 44,
      "metadata": {
        "colab": {
          "base_uri": "https://localhost:8080/"
        },
        "id": "-j56MmUweWNa",
        "outputId": "11584f7a-3f3c-42d1-9a4d-b8232e98e87f"
      },
      "outputs": [
        {
          "name": "stdout",
          "output_type": "stream",
          "text": [
            "                     precision    recall  f1-score   support\n",
            "\n",
            "Atividade econômica       0.00      0.00      0.00         3\n",
            "           Inflação       0.00      0.00      0.00         1\n",
            "             Nenhum       0.81      1.00      0.89        25\n",
            " Política monetária       1.00      0.33      0.50         3\n",
            "\n",
            "           accuracy                           0.81        32\n",
            "          macro avg       0.45      0.33      0.35        32\n",
            "       weighted avg       0.72      0.81      0.74        32\n",
            "\n"
          ]
        },
        {
          "name": "stderr",
          "output_type": "stream",
          "text": [
            "c:\\Users\\georg\\AppData\\Local\\Programs\\Python\\Python311\\Lib\\site-packages\\sklearn\\metrics\\_classification.py:1509: UndefinedMetricWarning: Precision is ill-defined and being set to 0.0 in labels with no predicted samples. Use `zero_division` parameter to control this behavior.\n",
            "  _warn_prf(average, modifier, f\"{metric.capitalize()} is\", len(result))\n",
            "c:\\Users\\georg\\AppData\\Local\\Programs\\Python\\Python311\\Lib\\site-packages\\sklearn\\metrics\\_classification.py:1509: UndefinedMetricWarning: Precision is ill-defined and being set to 0.0 in labels with no predicted samples. Use `zero_division` parameter to control this behavior.\n",
            "  _warn_prf(average, modifier, f\"{metric.capitalize()} is\", len(result))\n",
            "c:\\Users\\georg\\AppData\\Local\\Programs\\Python\\Python311\\Lib\\site-packages\\sklearn\\metrics\\_classification.py:1509: UndefinedMetricWarning: Precision is ill-defined and being set to 0.0 in labels with no predicted samples. Use `zero_division` parameter to control this behavior.\n",
            "  _warn_prf(average, modifier, f\"{metric.capitalize()} is\", len(result))\n"
          ]
        }
      ],
      "source": [
        "from sklearn.ensemble import RandomForestClassifier\n",
        "from sklearn.metrics import classification_report\n",
        "\n",
        "# Treinar o classificador\n",
        "classifier = RandomForestClassifier(n_estimators=100, random_state=42)\n",
        "classifier.fit(X_train, y_train)\n",
        "\n",
        "# Avaliar o classificador\n",
        "y_pred = classifier.predict(X_test)\n",
        "print(classification_report(y_test, y_pred))\n"
      ]
    },
    {
      "cell_type": "code",
      "execution_count": 45,
      "metadata": {
        "colab": {
          "base_uri": "https://localhost:8080/"
        },
        "id": "G53SKnY44fCi",
        "outputId": "2a6543d8-d906-488e-abd7-e6a55b6f9076"
      },
      "outputs": [
        {
          "name": "stdout",
          "output_type": "stream",
          "text": [
            "Logistic Regression Classification Report:\n",
            "                     precision    recall  f1-score   support\n",
            "\n",
            "Atividade econômica       1.00      0.33      0.50         3\n",
            "           Inflação       0.00      0.00      0.00         1\n",
            "             Nenhum       0.83      1.00      0.91        25\n",
            " Política monetária       1.00      0.33      0.50         3\n",
            "\n",
            "           accuracy                           0.84        32\n",
            "          macro avg       0.71      0.42      0.48        32\n",
            "       weighted avg       0.84      0.84      0.80        32\n",
            "\n"
          ]
        },
        {
          "name": "stderr",
          "output_type": "stream",
          "text": [
            "c:\\Users\\georg\\AppData\\Local\\Programs\\Python\\Python311\\Lib\\site-packages\\sklearn\\metrics\\_classification.py:1509: UndefinedMetricWarning: Precision is ill-defined and being set to 0.0 in labels with no predicted samples. Use `zero_division` parameter to control this behavior.\n",
            "  _warn_prf(average, modifier, f\"{metric.capitalize()} is\", len(result))\n",
            "c:\\Users\\georg\\AppData\\Local\\Programs\\Python\\Python311\\Lib\\site-packages\\sklearn\\metrics\\_classification.py:1509: UndefinedMetricWarning: Precision is ill-defined and being set to 0.0 in labels with no predicted samples. Use `zero_division` parameter to control this behavior.\n",
            "  _warn_prf(average, modifier, f\"{metric.capitalize()} is\", len(result))\n",
            "c:\\Users\\georg\\AppData\\Local\\Programs\\Python\\Python311\\Lib\\site-packages\\sklearn\\metrics\\_classification.py:1509: UndefinedMetricWarning: Precision is ill-defined and being set to 0.0 in labels with no predicted samples. Use `zero_division` parameter to control this behavior.\n",
            "  _warn_prf(average, modifier, f\"{metric.capitalize()} is\", len(result))\n"
          ]
        }
      ],
      "source": [
        "from sklearn.linear_model import LogisticRegression\n",
        "\n",
        "# Treinar o classificador\n",
        "log_reg = LogisticRegression(random_state=42, max_iter=1000)\n",
        "log_reg.fit(X_train, y_train)\n",
        "\n",
        "# Avaliar o classificador\n",
        "y_pred_log = log_reg.predict(X_test)\n",
        "print(\"Logistic Regression Classification Report:\")\n",
        "print(classification_report(y_test, y_pred_log))\n"
      ]
    },
    {
      "cell_type": "code",
      "execution_count": 46,
      "metadata": {
        "colab": {
          "base_uri": "https://localhost:8080/"
        },
        "id": "ZyrAdWp-4iFx",
        "outputId": "aadff53c-2f44-4e8b-dcbc-40aae0e06dfa"
      },
      "outputs": [
        {
          "name": "stdout",
          "output_type": "stream",
          "text": [
            "SVM Classification Report:\n",
            "                     precision    recall  f1-score   support\n",
            "\n",
            "Atividade econômica       1.00      0.67      0.80         3\n",
            "           Inflação       1.00      1.00      1.00         1\n",
            "             Nenhum       0.93      1.00      0.96        25\n",
            " Política monetária       0.50      0.33      0.40         3\n",
            "\n",
            "           accuracy                           0.91        32\n",
            "          macro avg       0.86      0.75      0.79        32\n",
            "       weighted avg       0.90      0.91      0.89        32\n",
            "\n"
          ]
        }
      ],
      "source": [
        "from sklearn.svm import SVC\n",
        "\n",
        "# Treinar o classificador\n",
        "svm_classifier = SVC(kernel='linear', random_state=42)\n",
        "svm_classifier.fit(X_train, y_train)\n",
        "\n",
        "# Avaliar o classificador\n",
        "y_pred_svm = svm_classifier.predict(X_test)\n",
        "print(\"SVM Classification Report:\")\n",
        "print(classification_report(y_test, y_pred_svm))\n"
      ]
    },
    {
      "cell_type": "markdown",
      "metadata": {
        "id": "ompLOWb7eWNa"
      },
      "source": [
        "Classifique as sentenças não rotuladas"
      ]
    },
    {
      "cell_type": "code",
      "execution_count": 48,
      "metadata": {
        "colab": {
          "base_uri": "https://localhost:8080/"
        },
        "id": "hAFvl28aeWNa",
        "outputId": "10a5c8dc-8e8c-426a-8472-887b4e64e89c"
      },
      "outputs": [
        {
          "name": "stdout",
          "output_type": "stream",
          "text": [
            "Embeddings gerados para sentenças não rotuladas\n",
            "Rótulos previstos para sentenças não rotuladas\n",
            "                                               sentences   Topic\n",
            "0      As we approach the end of this legislative ter...  Nenhum\n",
            "1      Building on this collaborative spirit, today’s...  Nenhum\n",
            "2      Let me start by outlining the current state of...  Nenhum\n",
            "3      I will then focus on the need for a common Eur...  Nenhum\n",
            "4      Bringing inflation back to target in a challen...  Nenhum\n",
            "...                                                  ...     ...\n",
            "36600  [2]According to the latest Eurobarometer surve...  Nenhum\n",
            "36601      [3]Schäuble-Lamers Paper, 1 September 1994.    Nenhum\n",
            "36602  [4]Interview with the Financial Times, 6 Octob...  Nenhum\n",
            "36603  [5]Interview with the Financial Times, 22 Marc...  Nenhum\n",
            "36604  [6]Interview with Bild am Sonntag, 3 October 2...  Nenhum\n",
            "\n",
            "[8344 rows x 2 columns]\n"
          ]
        },
        {
          "name": "stderr",
          "output_type": "stream",
          "text": [
            "C:\\Users\\georg\\AppData\\Local\\Temp\\ipykernel_21688\\3093847138.py:5: SettingWithCopyWarning: \n",
            "A value is trying to be set on a copy of a slice from a DataFrame.\n",
            "Try using .loc[row_indexer,col_indexer] = value instead\n",
            "\n",
            "See the caveats in the documentation: https://pandas.pydata.org/pandas-docs/stable/user_guide/indexing.html#returning-a-view-versus-a-copy\n",
            "  df_unlabeled['embeddings'] = df_unlabeled['sentences'].apply(embed_sentence)\n",
            "C:\\Users\\georg\\AppData\\Local\\Temp\\ipykernel_21688\\3093847138.py:10: SettingWithCopyWarning: \n",
            "A value is trying to be set on a copy of a slice from a DataFrame.\n",
            "Try using .loc[row_indexer,col_indexer] = value instead\n",
            "\n",
            "See the caveats in the documentation: https://pandas.pydata.org/pandas-docs/stable/user_guide/indexing.html#returning-a-view-versus-a-copy\n",
            "  df_unlabeled['Topic'] = y_unlabeled\n"
          ]
        }
      ],
      "source": [
        "# Filtrar sentenças não rotuladas e gerar embeddings para um intervalo de sentenças na Christine Lagarde\n",
        "mask = (merged_df['Topic'] == '-') & (merged_df['speakers'] == 'Christine Lagarde')\n",
        "df_unlabeled = merged_df[mask]\n",
        "# Gerar embeddings para sentenças não rotuladas\n",
        "df_unlabeled['embeddings'] = df_unlabeled['sentences'].apply(embed_sentence)\n",
        "print(\"Embeddings gerados para sentenças não rotuladas\")\n",
        "# Prever rótulos para sentenças não rotuladas\n",
        "X_unlabeled = list(df_unlabeled['embeddings'])\n",
        "y_unlabeled = classifier.predict(X_unlabeled)\n",
        "df_unlabeled['Topic'] = y_unlabeled\n",
        "print(\"Rótulos previstos para sentenças não rotuladas\")\n",
        "# Ver as predições\n",
        "print(df_unlabeled[['sentences', 'Topic']])\n"
      ]
    },
    {
      "cell_type": "markdown",
      "metadata": {
        "id": "5vXEU8qJeWNa"
      },
      "source": [
        "Filtre os dados da Christine Lagarde  e classifique-os"
      ]
    },
    {
      "cell_type": "code",
      "execution_count": 49,
      "metadata": {
        "colab": {
          "base_uri": "https://localhost:8080/"
        },
        "id": "si-hKiZ4Ae0s",
        "outputId": "f044efec-ff71-4067-df35-af13bea9e0ad"
      },
      "outputs": [
        {
          "name": "stdout",
          "output_type": "stream",
          "text": [
            "                                               sentences                Topic\n",
            "5      Having peaked at 10.6% in October 2022, inflat...  Atividade econômica\n",
            "6      After expanding by 3.4% in 2022, euro area eco...  Atividade econômica\n",
            "11     Unemployment stood at a historical low of 6.4%...  Atividade econômica\n",
            "12      Inflation decreased slightly to 2.8% in January.  Atividade econômica\n",
            "13     Energy prices declined by 6.1%, and food infla...  Atividade econômica\n",
            "...                                                  ...                  ...\n",
            "35638  One sign of this can be found by looking at th...  Atividade econômica\n",
            "35639  It turns out that the group of surplus countri...   Política monetária\n",
            "35666  The share of productive expenditure in total p...  Atividade econômica\n",
            "35673  This is also reflected in differences in total...  Atividade econômica\n",
            "35699  [3]Since the onset of the financial crisis, do...  Atividade econômica\n",
            "\n",
            "[824 rows x 2 columns]\n"
          ]
        }
      ],
      "source": [
        "filtered_df = df_unlabeled[df_unlabeled['Topic'] != 'Nenhum']\n",
        "\n",
        "# Exibir o resultado\n",
        "print(filtered_df[['sentences', 'Topic']])"
      ]
    },
    {
      "cell_type": "code",
      "execution_count": 50,
      "metadata": {
        "colab": {
          "base_uri": "https://localhost:8080/",
          "height": 510
        },
        "id": "ACdeuA9vBELA",
        "outputId": "d30d73a9-38b4-441b-8340-48df1e55d80e"
      },
      "outputs": [
        {
          "data": {
            "image/png": "[encoded data removed]",
            "text/plain": [
              "<Figure size 1000x600 with 1 Axes>"
            ]
          },
          "metadata": {},
          "output_type": "display_data"
        }
      ],
      "source": [
        "topic_counts = filtered_df['Topic'].value_counts()\n",
        "\n",
        "# Criando o gráfico de barras\n",
        "plt.figure(figsize=(10, 6))  # Ajusta o tamanho da figura\n",
        "topic_counts.plot(kind='bar', color='skyblue')  # Gera um gráfico de barras\n",
        "plt.title('Frequência por Tópico')  # Título do gráfico\n",
        "plt.xlabel('Tópico')  # Rótulo do eixo X\n",
        "plt.ylabel('Frequência')  # Rótulo do eixo Y\n",
        "plt.xticks(rotation=45, ha='right')  # Rotação dos rótulos no eixo X para melhor visualização\n",
        "plt.tight_layout()  # Ajusta automaticamente os subplots para dar espaço aos rótulos\n",
        "plt.show()"
      ]
    },
    {
      "cell_type": "code",
      "execution_count": 51,
      "metadata": {
        "colab": {
          "base_uri": "https://localhost:8080/",
          "height": 220
        },
        "id": "Q-0T63wdeWNa",
        "outputId": "ff7e6dd1-daf0-4312-f749-c3d3e090e52b"
      },
      "outputs": [],
      "source": [
        "# Junte os dados rotulados e não rotulados da Christine Lagarde\n",
        "# Filtrar sentenças rotuladas da Christine Lagarde\n",
        "mask = merged_df['speakers'] == 'Christine Lagarde'\n",
        "df_lagarde = merged_df[mask]\n",
        "# Juntar dados rotulados e não rotulados\n",
        "df_lagarde = pd.concat([df_lagarde, df_unlabeled])"
      ]
    },
    {
      "cell_type": "code",
      "execution_count": 64,
      "metadata": {},
      "outputs": [
        {
          "data": {
            "text/plain": [
              "Sentiment \n",
              "Neutral     10765\n",
              "Positive     4077\n",
              "Negative     1854\n",
              "Name: count, dtype: int64"
            ]
          },
          "execution_count": 64,
          "metadata": {},
          "output_type": "execute_result"
        }
      ],
      "source": [
        "df_lagarde.loc[:, \"Sentiment \"] = df_lagarde.loc[:, \"sentences\"].apply(classify_sentiment)\n",
        "df_lagarde[\"Sentiment \"].value_counts()"
      ]
    },
    {
      "cell_type": "code",
      "execution_count": 67,
      "metadata": {
        "colab": {
          "base_uri": "https://localhost:8080/",
          "height": 220
        },
        "id": "NLZ3FE1vPHsz",
        "outputId": "c2c0498f-12a8-4ae6-b77a-4621d640ece7"
      },
      "outputs": [
        {
          "name": "stdout",
          "output_type": "stream",
          "text": [
            "Sentiment            Negative  Neutral  Positive\n",
            "Topic                                           \n",
            "Atividade econômica       200      196       333\n",
            "Inflação                    0        0         3\n",
            "Nenhum                   1626    10560      3684\n",
            "Política monetária         28        9        57\n"
          ]
        },
        {
          "name": "stderr",
          "output_type": "stream",
          "text": [
            "C:\\Users\\georg\\AppData\\Local\\Temp\\ipykernel_21688\\4154966736.py:12: FutureWarning: Setting an item of incompatible dtype is deprecated and will raise in a future error of pandas. Value '0.27434842249657065' has dtype incompatible with int64, please explicitly cast to a compatible dtype first.\n",
            "  pivot_table.loc[index, col] = pivot_table.loc[index, col] / pivot_table.loc[index, :].sum()\n",
            "C:\\Users\\georg\\AppData\\Local\\Temp\\ipykernel_21688\\4154966736.py:12: FutureWarning: Setting an item of incompatible dtype is deprecated and will raise in a future error of pandas. Value '0.3703183435663913' has dtype incompatible with int64, please explicitly cast to a compatible dtype first.\n",
            "  pivot_table.loc[index, col] = pivot_table.loc[index, col] / pivot_table.loc[index, :].sum()\n",
            "C:\\Users\\georg\\AppData\\Local\\Temp\\ipykernel_21688\\4154966736.py:12: FutureWarning: Setting an item of incompatible dtype is deprecated and will raise in a future error of pandas. Value '0.9980678043731027' has dtype incompatible with int64, please explicitly cast to a compatible dtype first.\n",
            "  pivot_table.loc[index, col] = pivot_table.loc[index, col] / pivot_table.loc[index, :].sum()\n"
          ]
        },
        {
          "data": {
            "text/plain": [
              "(array([0.5, 1.5, 2.5, 3.5]),\n",
              " [Text(0, 0.5, 'Atividade econômica'),\n",
              "  Text(0, 1.5, 'Inflação'),\n",
              "  Text(0, 2.5, 'Nenhum'),\n",
              "  Text(0, 3.5, 'Política monetária')])"
            ]
          },
          "execution_count": 67,
          "metadata": {},
          "output_type": "execute_result"
        },
        {
          "data": {
            "image/png": "[encoded data removed]",
            "text/plain": [
              "<Figure size 1200x800 with 2 Axes>"
            ]
          },
          "metadata": {},
          "output_type": "display_data"
        }
      ],
      "source": [
        "import pandas as pd\n",
        "import seaborn as sns\n",
        "import matplotlib.pyplot as plt\n",
        "\n",
        "# Primeiro, calcular a matriz de contagem cruzada\n",
        "df_lagarde.loc[df_lagarde['Topic'] == \"-\", \"Topic\"] = \"Nenhum\"\n",
        "pivot_table = pd.crosstab(df_lagarde['Topic'], df_lagarde['Sentiment '])\n",
        "second_table = pivot_table.copy()\n",
        "\n",
        "for index in pivot_table.index:\n",
        "    for col in pivot_table.columns:\n",
        "        pivot_table.loc[index, col] = second_table.loc[index, col] / second_table.loc[index, :].sum()\n",
        "\n",
        "# Agora, plotar o heatmap usando seaborn\n",
        "plt.figure(figsize=(12, 8))  # Define o tamanho da figura\n",
        "sns.heatmap(pivot_table, annot=True, cmap='coolwarm', fmt='g')  # Cria o heatmap\n",
        "plt.title('Heatmap de Tópico por Sentimento')  # Título do gráfico\n",
        "plt.xlabel('Sentimento')  # Rótulo do eixo X\n",
        "plt.ylabel('Tópico')  # Rótulo do eixo Y\n",
        "plt.xticks(rotation=45)  # Rotaciona os rótulos do eixo X para melhor visualização\n",
        "plt.yticks(rotation=0)  # Mantém os rótulos do eixo Y na posição\n"
      ]
    },
    {
      "cell_type": "code",
      "execution_count": null,
      "metadata": {
        "id": "Irq3yj1INkON"
      },
      "outputs": [],
      "source": [
        "\n",
        "merged_df['Sentiment'] = merged_df.apply(lambda row: classify_sentiment(row['sentences']) if pd.isna(row['Sentiment ']) else row['Sentiment '], axis=1)"
      ]
    }
  ],
  "metadata": {
    "colab": {
      "provenance": []
    },
    "kernelspec": {
      "display_name": "Python 3",
      "language": "python",
      "name": "python3"
    },
    "language_info": {
      "codemirror_mode": {
        "name": "ipython",
        "version": 3
      },
      "file_extension": ".py",
      "mimetype": "text/x-python",
      "name": "python",
      "nbconvert_exporter": "python",
      "pygments_lexer": "ipython3",
      "version": "3.11.5"
    },
    "widgets": {
      "application/vnd.jupyter.widget-state+json": {
        "0ce361dd11fc4c538662598713a9ae38": {
          "model_module": "@jupyter-widgets/controls",
          "model_module_version": "1.5.0",
          "model_name": "DescriptionStyleModel",
          "state": {
            "_model_module": "@jupyter-widgets/controls",
            "_model_module_version": "1.5.0",
            "_model_name": "DescriptionStyleModel",
            "_view_count": null,
            "_view_module": "@jupyter-widgets/base",
            "_view_module_version": "1.2.0",
            "_view_name": "StyleView",
            "description_width": ""
          }
        },
        "107b1ddd3bd3417aa74152b413fc18c1": {
          "model_module": "@jupyter-widgets/controls",
          "model_module_version": "1.5.0",
          "model_name": "FloatProgressModel",
          "state": {
            "_dom_classes": [],
            "_model_module": "@jupyter-widgets/controls",
            "_model_module_version": "1.5.0",
            "_model_name": "FloatProgressModel",
            "_view_count": null,
            "_view_module": "@jupyter-widgets/controls",
            "_view_module_version": "1.5.0",
            "_view_name": "ProgressView",
            "bar_style": "success",
            "description": "",
            "description_tooltip": null,
            "layout": "IPY_MODEL_4b1481e0f3a442cfbf3f2fb347d85c4b",
            "max": 483,
            "min": 0,
            "orientation": "horizontal",
            "style": "IPY_MODEL_92e6175ddb3045dabed2b971ee36a197",
            "value": 483
          }
        },
        "13bb9bfeafe7491897495401a18b1f89": {
          "model_module": "@jupyter-widgets/controls",
          "model_module_version": "1.5.0",
          "model_name": "HBoxModel",
          "state": {
            "_dom_classes": [],
            "_model_module": "@jupyter-widgets/controls",
            "_model_module_version": "1.5.0",
            "_model_name": "HBoxModel",
            "_view_count": null,
            "_view_module": "@jupyter-widgets/controls",
            "_view_module_version": "1.5.0",
            "_view_name": "HBoxView",
            "box_style": "",
            "children": [
              "IPY_MODEL_2ae79c731a9548d28a6ad850d17c4a57",
              "IPY_MODEL_1cec8fc05e444acfa9929c1a4f17fadf",
              "IPY_MODEL_53f0e6659616414f9eb416d7124b8133"
            ],
            "layout": "IPY_MODEL_ab80da623bd94480a124080f29c83f01"
          }
        },
        "1cec8fc05e444acfa9929c1a4f17fadf": {
          "model_module": "@jupyter-widgets/controls",
          "model_module_version": "1.5.0",
          "model_name": "FloatProgressModel",
          "state": {
            "_dom_classes": [],
            "_model_module": "@jupyter-widgets/controls",
            "_model_module_version": "1.5.0",
            "_model_name": "FloatProgressModel",
            "_view_count": null,
            "_view_module": "@jupyter-widgets/controls",
            "_view_module_version": "1.5.0",
            "_view_name": "ProgressView",
            "bar_style": "success",
            "description": "",
            "description_tooltip": null,
            "layout": "IPY_MODEL_4c2dbc1c2ba54a7e9d3c0305bc706fe5",
            "max": 231508,
            "min": 0,
            "orientation": "horizontal",
            "style": "IPY_MODEL_c60121d89e034cf09b66317cc01d8545",
            "value": 231508
          }
        },
        "23542ceb4d6341e497a36dcf98a65756": {
          "model_module": "@jupyter-widgets/controls",
          "model_module_version": "1.5.0",
          "model_name": "DescriptionStyleModel",
          "state": {
            "_model_module": "@jupyter-widgets/controls",
            "_model_module_version": "1.5.0",
            "_model_name": "DescriptionStyleModel",
            "_view_count": null,
            "_view_module": "@jupyter-widgets/base",
            "_view_module_version": "1.2.0",
            "_view_name": "StyleView",
            "description_width": ""
          }
        },
        "2ae79c731a9548d28a6ad850d17c4a57": {
          "model_module": "@jupyter-widgets/controls",
          "model_module_version": "1.5.0",
          "model_name": "HTMLModel",
          "state": {
            "_dom_classes": [],
            "_model_module": "@jupyter-widgets/controls",
            "_model_module_version": "1.5.0",
            "_model_name": "HTMLModel",
            "_view_count": null,
            "_view_module": "@jupyter-widgets/controls",
            "_view_module_version": "1.5.0",
            "_view_name": "HTMLView",
            "description": "",
            "description_tooltip": null,
            "layout": "IPY_MODEL_abb67ab1bee049c6aa2982449f25a054",
            "placeholder": "​",
            "style": "IPY_MODEL_974eea6d1cfa4c9a9167c3054cf780e1",
            "value": "vocab.txt: 100%"
          }
        },
        "2dffc2e6459b4a249b80429d9d0829bd": {
          "model_module": "@jupyter-widgets/controls",
          "model_module_version": "1.5.0",
          "model_name": "FloatProgressModel",
          "state": {
            "_dom_classes": [],
            "_model_module": "@jupyter-widgets/controls",
            "_model_module_version": "1.5.0",
            "_model_name": "FloatProgressModel",
            "_view_count": null,
            "_view_module": "@jupyter-widgets/controls",
            "_view_module_version": "1.5.0",
            "_view_name": "ProgressView",
            "bar_style": "success",
            "description": "",
            "description_tooltip": null,
            "layout": "IPY_MODEL_51cebb22c9f8453f8aef2ea4d3ed80a9",
            "max": 267954768,
            "min": 0,
            "orientation": "horizontal",
            "style": "IPY_MODEL_fb4a6b858b6c41748ebbc5b1b40bd11a",
            "value": 267954768
          }
        },
        "30df00516e344707a91b5c0ff3139a4a": {
          "model_module": "@jupyter-widgets/base",
          "model_module_version": "1.2.0",
          "model_name": "LayoutModel",
          "state": {
            "_model_module": "@jupyter-widgets/base",
            "_model_module_version": "1.2.0",
            "_model_name": "LayoutModel",
            "_view_count": null,
            "_view_module": "@jupyter-widgets/base",
            "_view_module_version": "1.2.0",
            "_view_name": "LayoutView",
            "align_content": null,
            "align_items": null,
            "align_self": null,
            "border": null,
            "bottom": null,
            "display": null,
            "flex": null,
            "flex_flow": null,
            "grid_area": null,
            "grid_auto_columns": null,
            "grid_auto_flow": null,
            "grid_auto_rows": null,
            "grid_column": null,
            "grid_gap": null,
            "grid_row": null,
            "grid_template_areas": null,
            "grid_template_columns": null,
            "grid_template_rows": null,
            "height": null,
            "justify_content": null,
            "justify_items": null,
            "left": null,
            "margin": null,
            "max_height": null,
            "max_width": null,
            "min_height": null,
            "min_width": null,
            "object_fit": null,
            "object_position": null,
            "order": null,
            "overflow": null,
            "overflow_x": null,
            "overflow_y": null,
            "padding": null,
            "right": null,
            "top": null,
            "visibility": null,
            "width": null
          }
        },
        "34232542f878494aa46c0bdfb2fff76e": {
          "model_module": "@jupyter-widgets/controls",
          "model_module_version": "1.5.0",
          "model_name": "DescriptionStyleModel",
          "state": {
            "_model_module": "@jupyter-widgets/controls",
            "_model_module_version": "1.5.0",
            "_model_name": "DescriptionStyleModel",
            "_view_count": null,
            "_view_module": "@jupyter-widgets/base",
            "_view_module_version": "1.2.0",
            "_view_name": "StyleView",
            "description_width": ""
          }
        },
        "4893b523423140aebf76839e86787c25": {
          "model_module": "@jupyter-widgets/base",
          "model_module_version": "1.2.0",
          "model_name": "LayoutModel",
          "state": {
            "_model_module": "@jupyter-widgets/base",
            "_model_module_version": "1.2.0",
            "_model_name": "LayoutModel",
            "_view_count": null,
            "_view_module": "@jupyter-widgets/base",
            "_view_module_version": "1.2.0",
            "_view_name": "LayoutView",
            "align_content": null,
            "align_items": null,
            "align_self": null,
            "border": null,
            "bottom": null,
            "display": null,
            "flex": null,
            "flex_flow": null,
            "grid_area": null,
            "grid_auto_columns": null,
            "grid_auto_flow": null,
            "grid_auto_rows": null,
            "grid_column": null,
            "grid_gap": null,
            "grid_row": null,
            "grid_template_areas": null,
            "grid_template_columns": null,
            "grid_template_rows": null,
            "height": null,
            "justify_content": null,
            "justify_items": null,
            "left": null,
            "margin": null,
            "max_height": null,
            "max_width": null,
            "min_height": null,
            "min_width": null,
            "object_fit": null,
            "object_position": null,
            "order": null,
            "overflow": null,
            "overflow_x": null,
            "overflow_y": null,
            "padding": null,
            "right": null,
            "top": null,
            "visibility": null,
            "width": null
          }
        },
        "4b1481e0f3a442cfbf3f2fb347d85c4b": {
          "model_module": "@jupyter-widgets/base",
          "model_module_version": "1.2.0",
          "model_name": "LayoutModel",
          "state": {
            "_model_module": "@jupyter-widgets/base",
            "_model_module_version": "1.2.0",
            "_model_name": "LayoutModel",
            "_view_count": null,
            "_view_module": "@jupyter-widgets/base",
            "_view_module_version": "1.2.0",
            "_view_name": "LayoutView",
            "align_content": null,
            "align_items": null,
            "align_self": null,
            "border": null,
            "bottom": null,
            "display": null,
            "flex": null,
            "flex_flow": null,
            "grid_area": null,
            "grid_auto_columns": null,
            "grid_auto_flow": null,
            "grid_auto_rows": null,
            "grid_column": null,
            "grid_gap": null,
            "grid_row": null,
            "grid_template_areas": null,
            "grid_template_columns": null,
            "grid_template_rows": null,
            "height": null,
            "justify_content": null,
            "justify_items": null,
            "left": null,
            "margin": null,
            "max_height": null,
            "max_width": null,
            "min_height": null,
            "min_width": null,
            "object_fit": null,
            "object_position": null,
            "order": null,
            "overflow": null,
            "overflow_x": null,
            "overflow_y": null,
            "padding": null,
            "right": null,
            "top": null,
            "visibility": null,
            "width": null
          }
        },
        "4c2dbc1c2ba54a7e9d3c0305bc706fe5": {
          "model_module": "@jupyter-widgets/base",
          "model_module_version": "1.2.0",
          "model_name": "LayoutModel",
          "state": {
            "_model_module": "@jupyter-widgets/base",
            "_model_module_version": "1.2.0",
            "_model_name": "LayoutModel",
            "_view_count": null,
            "_view_module": "@jupyter-widgets/base",
            "_view_module_version": "1.2.0",
            "_view_name": "LayoutView",
            "align_content": null,
            "align_items": null,
            "align_self": null,
            "border": null,
            "bottom": null,
            "display": null,
            "flex": null,
            "flex_flow": null,
            "grid_area": null,
            "grid_auto_columns": null,
            "grid_auto_flow": null,
            "grid_auto_rows": null,
            "grid_column": null,
            "grid_gap": null,
            "grid_row": null,
            "grid_template_areas": null,
            "grid_template_columns": null,
            "grid_template_rows": null,
            "height": null,
            "justify_content": null,
            "justify_items": null,
            "left": null,
            "margin": null,
            "max_height": null,
            "max_width": null,
            "min_height": null,
            "min_width": null,
            "object_fit": null,
            "object_position": null,
            "order": null,
            "overflow": null,
            "overflow_x": null,
            "overflow_y": null,
            "padding": null,
            "right": null,
            "top": null,
            "visibility": null,
            "width": null
          }
        },
        "4ea19a47543945419a9dba48f8a6c795": {
          "model_module": "@jupyter-widgets/controls",
          "model_module_version": "1.5.0",
          "model_name": "HTMLModel",
          "state": {
            "_dom_classes": [],
            "_model_module": "@jupyter-widgets/controls",
            "_model_module_version": "1.5.0",
            "_model_name": "HTMLModel",
            "_view_count": null,
            "_view_module": "@jupyter-widgets/controls",
            "_view_module_version": "1.5.0",
            "_view_name": "HTMLView",
            "description": "",
            "description_tooltip": null,
            "layout": "IPY_MODEL_30df00516e344707a91b5c0ff3139a4a",
            "placeholder": "​",
            "style": "IPY_MODEL_ba6bdfab98774d21b4e3a318a822c04c",
            "value": " 483/483 [00:00&lt;00:00, 5.49kB/s]"
          }
        },
        "4ebde899df014e429d2fb938c95eab1b": {
          "model_module": "@jupyter-widgets/controls",
          "model_module_version": "1.5.0",
          "model_name": "DescriptionStyleModel",
          "state": {
            "_model_module": "@jupyter-widgets/controls",
            "_model_module_version": "1.5.0",
            "_model_name": "DescriptionStyleModel",
            "_view_count": null,
            "_view_module": "@jupyter-widgets/base",
            "_view_module_version": "1.2.0",
            "_view_name": "StyleView",
            "description_width": ""
          }
        },
        "4f1f49fe7ade4382b4925d361c16d1e3": {
          "model_module": "@jupyter-widgets/base",
          "model_module_version": "1.2.0",
          "model_name": "LayoutModel",
          "state": {
            "_model_module": "@jupyter-widgets/base",
            "_model_module_version": "1.2.0",
            "_model_name": "LayoutModel",
            "_view_count": null,
            "_view_module": "@jupyter-widgets/base",
            "_view_module_version": "1.2.0",
            "_view_name": "LayoutView",
            "align_content": null,
            "align_items": null,
            "align_self": null,
            "border": null,
            "bottom": null,
            "display": null,
            "flex": null,
            "flex_flow": null,
            "grid_area": null,
            "grid_auto_columns": null,
            "grid_auto_flow": null,
            "grid_auto_rows": null,
            "grid_column": null,
            "grid_gap": null,
            "grid_row": null,
            "grid_template_areas": null,
            "grid_template_columns": null,
            "grid_template_rows": null,
            "height": null,
            "justify_content": null,
            "justify_items": null,
            "left": null,
            "margin": null,
            "max_height": null,
            "max_width": null,
            "min_height": null,
            "min_width": null,
            "object_fit": null,
            "object_position": null,
            "order": null,
            "overflow": null,
            "overflow_x": null,
            "overflow_y": null,
            "padding": null,
            "right": null,
            "top": null,
            "visibility": null,
            "width": null
          }
        },
        "51cebb22c9f8453f8aef2ea4d3ed80a9": {
          "model_module": "@jupyter-widgets/base",
          "model_module_version": "1.2.0",
          "model_name": "LayoutModel",
          "state": {
            "_model_module": "@jupyter-widgets/base",
            "_model_module_version": "1.2.0",
            "_model_name": "LayoutModel",
            "_view_count": null,
            "_view_module": "@jupyter-widgets/base",
            "_view_module_version": "1.2.0",
            "_view_name": "LayoutView",
            "align_content": null,
            "align_items": null,
            "align_self": null,
            "border": null,
            "bottom": null,
            "display": null,
            "flex": null,
            "flex_flow": null,
            "grid_area": null,
            "grid_auto_columns": null,
            "grid_auto_flow": null,
            "grid_auto_rows": null,
            "grid_column": null,
            "grid_gap": null,
            "grid_row": null,
            "grid_template_areas": null,
            "grid_template_columns": null,
            "grid_template_rows": null,
            "height": null,
            "justify_content": null,
            "justify_items": null,
            "left": null,
            "margin": null,
            "max_height": null,
            "max_width": null,
            "min_height": null,
            "min_width": null,
            "object_fit": null,
            "object_position": null,
            "order": null,
            "overflow": null,
            "overflow_x": null,
            "overflow_y": null,
            "padding": null,
            "right": null,
            "top": null,
            "visibility": null,
            "width": null
          }
        },
        "53f0e6659616414f9eb416d7124b8133": {
          "model_module": "@jupyter-widgets/controls",
          "model_module_version": "1.5.0",
          "model_name": "HTMLModel",
          "state": {
            "_dom_classes": [],
            "_model_module": "@jupyter-widgets/controls",
            "_model_module_version": "1.5.0",
            "_model_name": "HTMLModel",
            "_view_count": null,
            "_view_module": "@jupyter-widgets/controls",
            "_view_module_version": "1.5.0",
            "_view_name": "HTMLView",
            "description": "",
            "description_tooltip": null,
            "layout": "IPY_MODEL_ca575930c43240ad84b97d09875aae20",
            "placeholder": "​",
            "style": "IPY_MODEL_ddc500de27bd430ca637cb464270ddf6",
            "value": " 232k/232k [00:00&lt;00:00, 1.40MB/s]"
          }
        },
        "551166b7b29d44c59d0417d90b11a243": {
          "model_module": "@jupyter-widgets/controls",
          "model_module_version": "1.5.0",
          "model_name": "FloatProgressModel",
          "state": {
            "_dom_classes": [],
            "_model_module": "@jupyter-widgets/controls",
            "_model_module_version": "1.5.0",
            "_model_name": "FloatProgressModel",
            "_view_count": null,
            "_view_module": "@jupyter-widgets/controls",
            "_view_module_version": "1.5.0",
            "_view_name": "ProgressView",
            "bar_style": "success",
            "description": "",
            "description_tooltip": null,
            "layout": "IPY_MODEL_c5b5eb97ec0a4922832d913c1596f987",
            "max": 48,
            "min": 0,
            "orientation": "horizontal",
            "style": "IPY_MODEL_fb3e72f833554ccdae258830912a007d",
            "value": 48
          }
        },
        "5611e52c0f1e403d99ff6db7b554ae4b": {
          "model_module": "@jupyter-widgets/controls",
          "model_module_version": "1.5.0",
          "model_name": "HTMLModel",
          "state": {
            "_dom_classes": [],
            "_model_module": "@jupyter-widgets/controls",
            "_model_module_version": "1.5.0",
            "_model_name": "HTMLModel",
            "_view_count": null,
            "_view_module": "@jupyter-widgets/controls",
            "_view_module_version": "1.5.0",
            "_view_name": "HTMLView",
            "description": "",
            "description_tooltip": null,
            "layout": "IPY_MODEL_884a9464c0844603b4e124866f2798ad",
            "placeholder": "​",
            "style": "IPY_MODEL_34232542f878494aa46c0bdfb2fff76e",
            "value": " 268M/268M [00:04&lt;00:00, 74.2MB/s]"
          }
        },
        "5aa07b89d8a7440580a7c6ab046930ee": {
          "model_module": "@jupyter-widgets/controls",
          "model_module_version": "1.5.0",
          "model_name": "FloatProgressModel",
          "state": {
            "_dom_classes": [],
            "_model_module": "@jupyter-widgets/controls",
            "_model_module_version": "1.5.0",
            "_model_name": "FloatProgressModel",
            "_view_count": null,
            "_view_module": "@jupyter-widgets/controls",
            "_view_module_version": "1.5.0",
            "_view_name": "ProgressView",
            "bar_style": "success",
            "description": "",
            "description_tooltip": null,
            "layout": "IPY_MODEL_ba5cde70564c4415ab83244332710610",
            "max": 466062,
            "min": 0,
            "orientation": "horizontal",
            "style": "IPY_MODEL_c188bc725054439baa0f4d41032d36a1",
            "value": 466062
          }
        },
        "5bb76be84d8446759c4c206671d6715f": {
          "model_module": "@jupyter-widgets/controls",
          "model_module_version": "1.5.0",
          "model_name": "HTMLModel",
          "state": {
            "_dom_classes": [],
            "_model_module": "@jupyter-widgets/controls",
            "_model_module_version": "1.5.0",
            "_model_name": "HTMLModel",
            "_view_count": null,
            "_view_module": "@jupyter-widgets/controls",
            "_view_module_version": "1.5.0",
            "_view_name": "HTMLView",
            "description": "",
            "description_tooltip": null,
            "layout": "IPY_MODEL_d335cb08da1544129255b9af02b587da",
            "placeholder": "​",
            "style": "IPY_MODEL_90387621b2104e3a9be78421d29bdeaa",
            "value": "config.json: 100%"
          }
        },
        "734ba91e31334c9eb6c89e1a4cd8d021": {
          "model_module": "@jupyter-widgets/base",
          "model_module_version": "1.2.0",
          "model_name": "LayoutModel",
          "state": {
            "_model_module": "@jupyter-widgets/base",
            "_model_module_version": "1.2.0",
            "_model_name": "LayoutModel",
            "_view_count": null,
            "_view_module": "@jupyter-widgets/base",
            "_view_module_version": "1.2.0",
            "_view_name": "LayoutView",
            "align_content": null,
            "align_items": null,
            "align_self": null,
            "border": null,
            "bottom": null,
            "display": null,
            "flex": null,
            "flex_flow": null,
            "grid_area": null,
            "grid_auto_columns": null,
            "grid_auto_flow": null,
            "grid_auto_rows": null,
            "grid_column": null,
            "grid_gap": null,
            "grid_row": null,
            "grid_template_areas": null,
            "grid_template_columns": null,
            "grid_template_rows": null,
            "height": null,
            "justify_content": null,
            "justify_items": null,
            "left": null,
            "margin": null,
            "max_height": null,
            "max_width": null,
            "min_height": null,
            "min_width": null,
            "object_fit": null,
            "object_position": null,
            "order": null,
            "overflow": null,
            "overflow_x": null,
            "overflow_y": null,
            "padding": null,
            "right": null,
            "top": null,
            "visibility": null,
            "width": null
          }
        },
        "7e4b60779b7d4fb9adebdfbbc8569c22": {
          "model_module": "@jupyter-widgets/base",
          "model_module_version": "1.2.0",
          "model_name": "LayoutModel",
          "state": {
            "_model_module": "@jupyter-widgets/base",
            "_model_module_version": "1.2.0",
            "_model_name": "LayoutModel",
            "_view_count": null,
            "_view_module": "@jupyter-widgets/base",
            "_view_module_version": "1.2.0",
            "_view_name": "LayoutView",
            "align_content": null,
            "align_items": null,
            "align_self": null,
            "border": null,
            "bottom": null,
            "display": null,
            "flex": null,
            "flex_flow": null,
            "grid_area": null,
            "grid_auto_columns": null,
            "grid_auto_flow": null,
            "grid_auto_rows": null,
            "grid_column": null,
            "grid_gap": null,
            "grid_row": null,
            "grid_template_areas": null,
            "grid_template_columns": null,
            "grid_template_rows": null,
            "height": null,
            "justify_content": null,
            "justify_items": null,
            "left": null,
            "margin": null,
            "max_height": null,
            "max_width": null,
            "min_height": null,
            "min_width": null,
            "object_fit": null,
            "object_position": null,
            "order": null,
            "overflow": null,
            "overflow_x": null,
            "overflow_y": null,
            "padding": null,
            "right": null,
            "top": null,
            "visibility": null,
            "width": null
          }
        },
        "8473a5d545134bc49d1509ef95cb7cc1": {
          "model_module": "@jupyter-widgets/controls",
          "model_module_version": "1.5.0",
          "model_name": "HBoxModel",
          "state": {
            "_dom_classes": [],
            "_model_module": "@jupyter-widgets/controls",
            "_model_module_version": "1.5.0",
            "_model_name": "HBoxModel",
            "_view_count": null,
            "_view_module": "@jupyter-widgets/controls",
            "_view_module_version": "1.5.0",
            "_view_name": "HBoxView",
            "box_style": "",
            "children": [
              "IPY_MODEL_e434b4229e7440f38100bd05e6811739",
              "IPY_MODEL_2dffc2e6459b4a249b80429d9d0829bd",
              "IPY_MODEL_5611e52c0f1e403d99ff6db7b554ae4b"
            ],
            "layout": "IPY_MODEL_734ba91e31334c9eb6c89e1a4cd8d021"
          }
        },
        "84b45cc165c04fe4a1e2a6f2e575918e": {
          "model_module": "@jupyter-widgets/controls",
          "model_module_version": "1.5.0",
          "model_name": "HBoxModel",
          "state": {
            "_dom_classes": [],
            "_model_module": "@jupyter-widgets/controls",
            "_model_module_version": "1.5.0",
            "_model_name": "HBoxModel",
            "_view_count": null,
            "_view_module": "@jupyter-widgets/controls",
            "_view_module_version": "1.5.0",
            "_view_name": "HBoxView",
            "box_style": "",
            "children": [
              "IPY_MODEL_5bb76be84d8446759c4c206671d6715f",
              "IPY_MODEL_107b1ddd3bd3417aa74152b413fc18c1",
              "IPY_MODEL_4ea19a47543945419a9dba48f8a6c795"
            ],
            "layout": "IPY_MODEL_c568efc6c27e402a8b32f2aea465f0cd"
          }
        },
        "884a9464c0844603b4e124866f2798ad": {
          "model_module": "@jupyter-widgets/base",
          "model_module_version": "1.2.0",
          "model_name": "LayoutModel",
          "state": {
            "_model_module": "@jupyter-widgets/base",
            "_model_module_version": "1.2.0",
            "_model_name": "LayoutModel",
            "_view_count": null,
            "_view_module": "@jupyter-widgets/base",
            "_view_module_version": "1.2.0",
            "_view_name": "LayoutView",
            "align_content": null,
            "align_items": null,
            "align_self": null,
            "border": null,
            "bottom": null,
            "display": null,
            "flex": null,
            "flex_flow": null,
            "grid_area": null,
            "grid_auto_columns": null,
            "grid_auto_flow": null,
            "grid_auto_rows": null,
            "grid_column": null,
            "grid_gap": null,
            "grid_row": null,
            "grid_template_areas": null,
            "grid_template_columns": null,
            "grid_template_rows": null,
            "height": null,
            "justify_content": null,
            "justify_items": null,
            "left": null,
            "margin": null,
            "max_height": null,
            "max_width": null,
            "min_height": null,
            "min_width": null,
            "object_fit": null,
            "object_position": null,
            "order": null,
            "overflow": null,
            "overflow_x": null,
            "overflow_y": null,
            "padding": null,
            "right": null,
            "top": null,
            "visibility": null,
            "width": null
          }
        },
        "8a3b914a2ed84c9091a645b1d42242de": {
          "model_module": "@jupyter-widgets/base",
          "model_module_version": "1.2.0",
          "model_name": "LayoutModel",
          "state": {
            "_model_module": "@jupyter-widgets/base",
            "_model_module_version": "1.2.0",
            "_model_name": "LayoutModel",
            "_view_count": null,
            "_view_module": "@jupyter-widgets/base",
            "_view_module_version": "1.2.0",
            "_view_name": "LayoutView",
            "align_content": null,
            "align_items": null,
            "align_self": null,
            "border": null,
            "bottom": null,
            "display": null,
            "flex": null,
            "flex_flow": null,
            "grid_area": null,
            "grid_auto_columns": null,
            "grid_auto_flow": null,
            "grid_auto_rows": null,
            "grid_column": null,
            "grid_gap": null,
            "grid_row": null,
            "grid_template_areas": null,
            "grid_template_columns": null,
            "grid_template_rows": null,
            "height": null,
            "justify_content": null,
            "justify_items": null,
            "left": null,
            "margin": null,
            "max_height": null,
            "max_width": null,
            "min_height": null,
            "min_width": null,
            "object_fit": null,
            "object_position": null,
            "order": null,
            "overflow": null,
            "overflow_x": null,
            "overflow_y": null,
            "padding": null,
            "right": null,
            "top": null,
            "visibility": null,
            "width": null
          }
        },
        "90387621b2104e3a9be78421d29bdeaa": {
          "model_module": "@jupyter-widgets/controls",
          "model_module_version": "1.5.0",
          "model_name": "DescriptionStyleModel",
          "state": {
            "_model_module": "@jupyter-widgets/controls",
            "_model_module_version": "1.5.0",
            "_model_name": "DescriptionStyleModel",
            "_view_count": null,
            "_view_module": "@jupyter-widgets/base",
            "_view_module_version": "1.2.0",
            "_view_name": "StyleView",
            "description_width": ""
          }
        },
        "92e6175ddb3045dabed2b971ee36a197": {
          "model_module": "@jupyter-widgets/controls",
          "model_module_version": "1.5.0",
          "model_name": "ProgressStyleModel",
          "state": {
            "_model_module": "@jupyter-widgets/controls",
            "_model_module_version": "1.5.0",
            "_model_name": "ProgressStyleModel",
            "_view_count": null,
            "_view_module": "@jupyter-widgets/base",
            "_view_module_version": "1.2.0",
            "_view_name": "StyleView",
            "bar_color": null,
            "description_width": ""
          }
        },
        "974eea6d1cfa4c9a9167c3054cf780e1": {
          "model_module": "@jupyter-widgets/controls",
          "model_module_version": "1.5.0",
          "model_name": "DescriptionStyleModel",
          "state": {
            "_model_module": "@jupyter-widgets/controls",
            "_model_module_version": "1.5.0",
            "_model_name": "DescriptionStyleModel",
            "_view_count": null,
            "_view_module": "@jupyter-widgets/base",
            "_view_module_version": "1.2.0",
            "_view_name": "StyleView",
            "description_width": ""
          }
        },
        "a16388881d214b20ac4c166572175779": {
          "model_module": "@jupyter-widgets/controls",
          "model_module_version": "1.5.0",
          "model_name": "HBoxModel",
          "state": {
            "_dom_classes": [],
            "_model_module": "@jupyter-widgets/controls",
            "_model_module_version": "1.5.0",
            "_model_name": "HBoxModel",
            "_view_count": null,
            "_view_module": "@jupyter-widgets/controls",
            "_view_module_version": "1.5.0",
            "_view_name": "HBoxView",
            "box_style": "",
            "children": [
              "IPY_MODEL_a7e3a705dc31477eb48fff4490599519",
              "IPY_MODEL_5aa07b89d8a7440580a7c6ab046930ee",
              "IPY_MODEL_f1082345cf01441eb177604da791ea4d"
            ],
            "layout": "IPY_MODEL_4f1f49fe7ade4382b4925d361c16d1e3"
          }
        },
        "a488981ba58c49e7ba6a82f050ecde2b": {
          "model_module": "@jupyter-widgets/controls",
          "model_module_version": "1.5.0",
          "model_name": "DescriptionStyleModel",
          "state": {
            "_model_module": "@jupyter-widgets/controls",
            "_model_module_version": "1.5.0",
            "_model_name": "DescriptionStyleModel",
            "_view_count": null,
            "_view_module": "@jupyter-widgets/base",
            "_view_module_version": "1.2.0",
            "_view_name": "StyleView",
            "description_width": ""
          }
        },
        "a570c92ff0da4210a03ab4b06947b7fc": {
          "model_module": "@jupyter-widgets/controls",
          "model_module_version": "1.5.0",
          "model_name": "DescriptionStyleModel",
          "state": {
            "_model_module": "@jupyter-widgets/controls",
            "_model_module_version": "1.5.0",
            "_model_name": "DescriptionStyleModel",
            "_view_count": null,
            "_view_module": "@jupyter-widgets/base",
            "_view_module_version": "1.2.0",
            "_view_name": "StyleView",
            "description_width": ""
          }
        },
        "a7e3a705dc31477eb48fff4490599519": {
          "model_module": "@jupyter-widgets/controls",
          "model_module_version": "1.5.0",
          "model_name": "HTMLModel",
          "state": {
            "_dom_classes": [],
            "_model_module": "@jupyter-widgets/controls",
            "_model_module_version": "1.5.0",
            "_model_name": "HTMLModel",
            "_view_count": null,
            "_view_module": "@jupyter-widgets/controls",
            "_view_module_version": "1.5.0",
            "_view_name": "HTMLView",
            "description": "",
            "description_tooltip": null,
            "layout": "IPY_MODEL_8a3b914a2ed84c9091a645b1d42242de",
            "placeholder": "​",
            "style": "IPY_MODEL_23542ceb4d6341e497a36dcf98a65756",
            "value": "tokenizer.json: 100%"
          }
        },
        "ab80da623bd94480a124080f29c83f01": {
          "model_module": "@jupyter-widgets/base",
          "model_module_version": "1.2.0",
          "model_name": "LayoutModel",
          "state": {
            "_model_module": "@jupyter-widgets/base",
            "_model_module_version": "1.2.0",
            "_model_name": "LayoutModel",
            "_view_count": null,
            "_view_module": "@jupyter-widgets/base",
            "_view_module_version": "1.2.0",
            "_view_name": "LayoutView",
            "align_content": null,
            "align_items": null,
            "align_self": null,
            "border": null,
            "bottom": null,
            "display": null,
            "flex": null,
            "flex_flow": null,
            "grid_area": null,
            "grid_auto_columns": null,
            "grid_auto_flow": null,
            "grid_auto_rows": null,
            "grid_column": null,
            "grid_gap": null,
            "grid_row": null,
            "grid_template_areas": null,
            "grid_template_columns": null,
            "grid_template_rows": null,
            "height": null,
            "justify_content": null,
            "justify_items": null,
            "left": null,
            "margin": null,
            "max_height": null,
            "max_width": null,
            "min_height": null,
            "min_width": null,
            "object_fit": null,
            "object_position": null,
            "order": null,
            "overflow": null,
            "overflow_x": null,
            "overflow_y": null,
            "padding": null,
            "right": null,
            "top": null,
            "visibility": null,
            "width": null
          }
        },
        "abb67ab1bee049c6aa2982449f25a054": {
          "model_module": "@jupyter-widgets/base",
          "model_module_version": "1.2.0",
          "model_name": "LayoutModel",
          "state": {
            "_model_module": "@jupyter-widgets/base",
            "_model_module_version": "1.2.0",
            "_model_name": "LayoutModel",
            "_view_count": null,
            "_view_module": "@jupyter-widgets/base",
            "_view_module_version": "1.2.0",
            "_view_name": "LayoutView",
            "align_content": null,
            "align_items": null,
            "align_self": null,
            "border": null,
            "bottom": null,
            "display": null,
            "flex": null,
            "flex_flow": null,
            "grid_area": null,
            "grid_auto_columns": null,
            "grid_auto_flow": null,
            "grid_auto_rows": null,
            "grid_column": null,
            "grid_gap": null,
            "grid_row": null,
            "grid_template_areas": null,
            "grid_template_columns": null,
            "grid_template_rows": null,
            "height": null,
            "justify_content": null,
            "justify_items": null,
            "left": null,
            "margin": null,
            "max_height": null,
            "max_width": null,
            "min_height": null,
            "min_width": null,
            "object_fit": null,
            "object_position": null,
            "order": null,
            "overflow": null,
            "overflow_x": null,
            "overflow_y": null,
            "padding": null,
            "right": null,
            "top": null,
            "visibility": null,
            "width": null
          }
        },
        "ae9ff57c9b444548b2c6840dde6124ad": {
          "model_module": "@jupyter-widgets/controls",
          "model_module_version": "1.5.0",
          "model_name": "HTMLModel",
          "state": {
            "_dom_classes": [],
            "_model_module": "@jupyter-widgets/controls",
            "_model_module_version": "1.5.0",
            "_model_name": "HTMLModel",
            "_view_count": null,
            "_view_module": "@jupyter-widgets/controls",
            "_view_module_version": "1.5.0",
            "_view_name": "HTMLView",
            "description": "",
            "description_tooltip": null,
            "layout": "IPY_MODEL_ef2b14f0b3974055be960af4b4cf86e0",
            "placeholder": "​",
            "style": "IPY_MODEL_0ce361dd11fc4c538662598713a9ae38",
            "value": " 48.0/48.0 [00:00&lt;00:00, 802B/s]"
          }
        },
        "ba5cde70564c4415ab83244332710610": {
          "model_module": "@jupyter-widgets/base",
          "model_module_version": "1.2.0",
          "model_name": "LayoutModel",
          "state": {
            "_model_module": "@jupyter-widgets/base",
            "_model_module_version": "1.2.0",
            "_model_name": "LayoutModel",
            "_view_count": null,
            "_view_module": "@jupyter-widgets/base",
            "_view_module_version": "1.2.0",
            "_view_name": "LayoutView",
            "align_content": null,
            "align_items": null,
            "align_self": null,
            "border": null,
            "bottom": null,
            "display": null,
            "flex": null,
            "flex_flow": null,
            "grid_area": null,
            "grid_auto_columns": null,
            "grid_auto_flow": null,
            "grid_auto_rows": null,
            "grid_column": null,
            "grid_gap": null,
            "grid_row": null,
            "grid_template_areas": null,
            "grid_template_columns": null,
            "grid_template_rows": null,
            "height": null,
            "justify_content": null,
            "justify_items": null,
            "left": null,
            "margin": null,
            "max_height": null,
            "max_width": null,
            "min_height": null,
            "min_width": null,
            "object_fit": null,
            "object_position": null,
            "order": null,
            "overflow": null,
            "overflow_x": null,
            "overflow_y": null,
            "padding": null,
            "right": null,
            "top": null,
            "visibility": null,
            "width": null
          }
        },
        "ba6bdfab98774d21b4e3a318a822c04c": {
          "model_module": "@jupyter-widgets/controls",
          "model_module_version": "1.5.0",
          "model_name": "DescriptionStyleModel",
          "state": {
            "_model_module": "@jupyter-widgets/controls",
            "_model_module_version": "1.5.0",
            "_model_name": "DescriptionStyleModel",
            "_view_count": null,
            "_view_module": "@jupyter-widgets/base",
            "_view_module_version": "1.2.0",
            "_view_name": "StyleView",
            "description_width": ""
          }
        },
        "c188bc725054439baa0f4d41032d36a1": {
          "model_module": "@jupyter-widgets/controls",
          "model_module_version": "1.5.0",
          "model_name": "ProgressStyleModel",
          "state": {
            "_model_module": "@jupyter-widgets/controls",
            "_model_module_version": "1.5.0",
            "_model_name": "ProgressStyleModel",
            "_view_count": null,
            "_view_module": "@jupyter-widgets/base",
            "_view_module_version": "1.2.0",
            "_view_name": "StyleView",
            "bar_color": null,
            "description_width": ""
          }
        },
        "c568efc6c27e402a8b32f2aea465f0cd": {
          "model_module": "@jupyter-widgets/base",
          "model_module_version": "1.2.0",
          "model_name": "LayoutModel",
          "state": {
            "_model_module": "@jupyter-widgets/base",
            "_model_module_version": "1.2.0",
            "_model_name": "LayoutModel",
            "_view_count": null,
            "_view_module": "@jupyter-widgets/base",
            "_view_module_version": "1.2.0",
            "_view_name": "LayoutView",
            "align_content": null,
            "align_items": null,
            "align_self": null,
            "border": null,
            "bottom": null,
            "display": null,
            "flex": null,
            "flex_flow": null,
            "grid_area": null,
            "grid_auto_columns": null,
            "grid_auto_flow": null,
            "grid_auto_rows": null,
            "grid_column": null,
            "grid_gap": null,
            "grid_row": null,
            "grid_template_areas": null,
            "grid_template_columns": null,
            "grid_template_rows": null,
            "height": null,
            "justify_content": null,
            "justify_items": null,
            "left": null,
            "margin": null,
            "max_height": null,
            "max_width": null,
            "min_height": null,
            "min_width": null,
            "object_fit": null,
            "object_position": null,
            "order": null,
            "overflow": null,
            "overflow_x": null,
            "overflow_y": null,
            "padding": null,
            "right": null,
            "top": null,
            "visibility": null,
            "width": null
          }
        },
        "c5b5eb97ec0a4922832d913c1596f987": {
          "model_module": "@jupyter-widgets/base",
          "model_module_version": "1.2.0",
          "model_name": "LayoutModel",
          "state": {
            "_model_module": "@jupyter-widgets/base",
            "_model_module_version": "1.2.0",
            "_model_name": "LayoutModel",
            "_view_count": null,
            "_view_module": "@jupyter-widgets/base",
            "_view_module_version": "1.2.0",
            "_view_name": "LayoutView",
            "align_content": null,
            "align_items": null,
            "align_self": null,
            "border": null,
            "bottom": null,
            "display": null,
            "flex": null,
            "flex_flow": null,
            "grid_area": null,
            "grid_auto_columns": null,
            "grid_auto_flow": null,
            "grid_auto_rows": null,
            "grid_column": null,
            "grid_gap": null,
            "grid_row": null,
            "grid_template_areas": null,
            "grid_template_columns": null,
            "grid_template_rows": null,
            "height": null,
            "justify_content": null,
            "justify_items": null,
            "left": null,
            "margin": null,
            "max_height": null,
            "max_width": null,
            "min_height": null,
            "min_width": null,
            "object_fit": null,
            "object_position": null,
            "order": null,
            "overflow": null,
            "overflow_x": null,
            "overflow_y": null,
            "padding": null,
            "right": null,
            "top": null,
            "visibility": null,
            "width": null
          }
        },
        "c60121d89e034cf09b66317cc01d8545": {
          "model_module": "@jupyter-widgets/controls",
          "model_module_version": "1.5.0",
          "model_name": "ProgressStyleModel",
          "state": {
            "_model_module": "@jupyter-widgets/controls",
            "_model_module_version": "1.5.0",
            "_model_name": "ProgressStyleModel",
            "_view_count": null,
            "_view_module": "@jupyter-widgets/base",
            "_view_module_version": "1.2.0",
            "_view_name": "StyleView",
            "bar_color": null,
            "description_width": ""
          }
        },
        "ca575930c43240ad84b97d09875aae20": {
          "model_module": "@jupyter-widgets/base",
          "model_module_version": "1.2.0",
          "model_name": "LayoutModel",
          "state": {
            "_model_module": "@jupyter-widgets/base",
            "_model_module_version": "1.2.0",
            "_model_name": "LayoutModel",
            "_view_count": null,
            "_view_module": "@jupyter-widgets/base",
            "_view_module_version": "1.2.0",
            "_view_name": "LayoutView",
            "align_content": null,
            "align_items": null,
            "align_self": null,
            "border": null,
            "bottom": null,
            "display": null,
            "flex": null,
            "flex_flow": null,
            "grid_area": null,
            "grid_auto_columns": null,
            "grid_auto_flow": null,
            "grid_auto_rows": null,
            "grid_column": null,
            "grid_gap": null,
            "grid_row": null,
            "grid_template_areas": null,
            "grid_template_columns": null,
            "grid_template_rows": null,
            "height": null,
            "justify_content": null,
            "justify_items": null,
            "left": null,
            "margin": null,
            "max_height": null,
            "max_width": null,
            "min_height": null,
            "min_width": null,
            "object_fit": null,
            "object_position": null,
            "order": null,
            "overflow": null,
            "overflow_x": null,
            "overflow_y": null,
            "padding": null,
            "right": null,
            "top": null,
            "visibility": null,
            "width": null
          }
        },
        "d335cb08da1544129255b9af02b587da": {
          "model_module": "@jupyter-widgets/base",
          "model_module_version": "1.2.0",
          "model_name": "LayoutModel",
          "state": {
            "_model_module": "@jupyter-widgets/base",
            "_model_module_version": "1.2.0",
            "_model_name": "LayoutModel",
            "_view_count": null,
            "_view_module": "@jupyter-widgets/base",
            "_view_module_version": "1.2.0",
            "_view_name": "LayoutView",
            "align_content": null,
            "align_items": null,
            "align_self": null,
            "border": null,
            "bottom": null,
            "display": null,
            "flex": null,
            "flex_flow": null,
            "grid_area": null,
            "grid_auto_columns": null,
            "grid_auto_flow": null,
            "grid_auto_rows": null,
            "grid_column": null,
            "grid_gap": null,
            "grid_row": null,
            "grid_template_areas": null,
            "grid_template_columns": null,
            "grid_template_rows": null,
            "height": null,
            "justify_content": null,
            "justify_items": null,
            "left": null,
            "margin": null,
            "max_height": null,
            "max_width": null,
            "min_height": null,
            "min_width": null,
            "object_fit": null,
            "object_position": null,
            "order": null,
            "overflow": null,
            "overflow_x": null,
            "overflow_y": null,
            "padding": null,
            "right": null,
            "top": null,
            "visibility": null,
            "width": null
          }
        },
        "ddc500de27bd430ca637cb464270ddf6": {
          "model_module": "@jupyter-widgets/controls",
          "model_module_version": "1.5.0",
          "model_name": "DescriptionStyleModel",
          "state": {
            "_model_module": "@jupyter-widgets/controls",
            "_model_module_version": "1.5.0",
            "_model_name": "DescriptionStyleModel",
            "_view_count": null,
            "_view_module": "@jupyter-widgets/base",
            "_view_module_version": "1.2.0",
            "_view_name": "StyleView",
            "description_width": ""
          }
        },
        "e434b4229e7440f38100bd05e6811739": {
          "model_module": "@jupyter-widgets/controls",
          "model_module_version": "1.5.0",
          "model_name": "HTMLModel",
          "state": {
            "_dom_classes": [],
            "_model_module": "@jupyter-widgets/controls",
            "_model_module_version": "1.5.0",
            "_model_name": "HTMLModel",
            "_view_count": null,
            "_view_module": "@jupyter-widgets/controls",
            "_view_module_version": "1.5.0",
            "_view_name": "HTMLView",
            "description": "",
            "description_tooltip": null,
            "layout": "IPY_MODEL_e75d9d44e3714c56997a2bf97f490e09",
            "placeholder": "​",
            "style": "IPY_MODEL_a570c92ff0da4210a03ab4b06947b7fc",
            "value": "model.safetensors: 100%"
          }
        },
        "e75d9d44e3714c56997a2bf97f490e09": {
          "model_module": "@jupyter-widgets/base",
          "model_module_version": "1.2.0",
          "model_name": "LayoutModel",
          "state": {
            "_model_module": "@jupyter-widgets/base",
            "_model_module_version": "1.2.0",
            "_model_name": "LayoutModel",
            "_view_count": null,
            "_view_module": "@jupyter-widgets/base",
            "_view_module_version": "1.2.0",
            "_view_name": "LayoutView",
            "align_content": null,
            "align_items": null,
            "align_self": null,
            "border": null,
            "bottom": null,
            "display": null,
            "flex": null,
            "flex_flow": null,
            "grid_area": null,
            "grid_auto_columns": null,
            "grid_auto_flow": null,
            "grid_auto_rows": null,
            "grid_column": null,
            "grid_gap": null,
            "grid_row": null,
            "grid_template_areas": null,
            "grid_template_columns": null,
            "grid_template_rows": null,
            "height": null,
            "justify_content": null,
            "justify_items": null,
            "left": null,
            "margin": null,
            "max_height": null,
            "max_width": null,
            "min_height": null,
            "min_width": null,
            "object_fit": null,
            "object_position": null,
            "order": null,
            "overflow": null,
            "overflow_x": null,
            "overflow_y": null,
            "padding": null,
            "right": null,
            "top": null,
            "visibility": null,
            "width": null
          }
        },
        "e9316788f3764a80b02f723e245d2228": {
          "model_module": "@jupyter-widgets/base",
          "model_module_version": "1.2.0",
          "model_name": "LayoutModel",
          "state": {
            "_model_module": "@jupyter-widgets/base",
            "_model_module_version": "1.2.0",
            "_model_name": "LayoutModel",
            "_view_count": null,
            "_view_module": "@jupyter-widgets/base",
            "_view_module_version": "1.2.0",
            "_view_name": "LayoutView",
            "align_content": null,
            "align_items": null,
            "align_self": null,
            "border": null,
            "bottom": null,
            "display": null,
            "flex": null,
            "flex_flow": null,
            "grid_area": null,
            "grid_auto_columns": null,
            "grid_auto_flow": null,
            "grid_auto_rows": null,
            "grid_column": null,
            "grid_gap": null,
            "grid_row": null,
            "grid_template_areas": null,
            "grid_template_columns": null,
            "grid_template_rows": null,
            "height": null,
            "justify_content": null,
            "justify_items": null,
            "left": null,
            "margin": null,
            "max_height": null,
            "max_width": null,
            "min_height": null,
            "min_width": null,
            "object_fit": null,
            "object_position": null,
            "order": null,
            "overflow": null,
            "overflow_x": null,
            "overflow_y": null,
            "padding": null,
            "right": null,
            "top": null,
            "visibility": null,
            "width": null
          }
        },
        "ee2d8868cc3045bcb37af4374e9ec602": {
          "model_module": "@jupyter-widgets/controls",
          "model_module_version": "1.5.0",
          "model_name": "HBoxModel",
          "state": {
            "_dom_classes": [],
            "_model_module": "@jupyter-widgets/controls",
            "_model_module_version": "1.5.0",
            "_model_name": "HBoxModel",
            "_view_count": null,
            "_view_module": "@jupyter-widgets/controls",
            "_view_module_version": "1.5.0",
            "_view_name": "HBoxView",
            "box_style": "",
            "children": [
              "IPY_MODEL_fc14dd47260d414ab3f6d98e5228e9c7",
              "IPY_MODEL_551166b7b29d44c59d0417d90b11a243",
              "IPY_MODEL_ae9ff57c9b444548b2c6840dde6124ad"
            ],
            "layout": "IPY_MODEL_7e4b60779b7d4fb9adebdfbbc8569c22"
          }
        },
        "ef2b14f0b3974055be960af4b4cf86e0": {
          "model_module": "@jupyter-widgets/base",
          "model_module_version": "1.2.0",
          "model_name": "LayoutModel",
          "state": {
            "_model_module": "@jupyter-widgets/base",
            "_model_module_version": "1.2.0",
            "_model_name": "LayoutModel",
            "_view_count": null,
            "_view_module": "@jupyter-widgets/base",
            "_view_module_version": "1.2.0",
            "_view_name": "LayoutView",
            "align_content": null,
            "align_items": null,
            "align_self": null,
            "border": null,
            "bottom": null,
            "display": null,
            "flex": null,
            "flex_flow": null,
            "grid_area": null,
            "grid_auto_columns": null,
            "grid_auto_flow": null,
            "grid_auto_rows": null,
            "grid_column": null,
            "grid_gap": null,
            "grid_row": null,
            "grid_template_areas": null,
            "grid_template_columns": null,
            "grid_template_rows": null,
            "height": null,
            "justify_content": null,
            "justify_items": null,
            "left": null,
            "margin": null,
            "max_height": null,
            "max_width": null,
            "min_height": null,
            "min_width": null,
            "object_fit": null,
            "object_position": null,
            "order": null,
            "overflow": null,
            "overflow_x": null,
            "overflow_y": null,
            "padding": null,
            "right": null,
            "top": null,
            "visibility": null,
            "width": null
          }
        },
        "f1082345cf01441eb177604da791ea4d": {
          "model_module": "@jupyter-widgets/controls",
          "model_module_version": "1.5.0",
          "model_name": "HTMLModel",
          "state": {
            "_dom_classes": [],
            "_model_module": "@jupyter-widgets/controls",
            "_model_module_version": "1.5.0",
            "_model_name": "HTMLModel",
            "_view_count": null,
            "_view_module": "@jupyter-widgets/controls",
            "_view_module_version": "1.5.0",
            "_view_name": "HTMLView",
            "description": "",
            "description_tooltip": null,
            "layout": "IPY_MODEL_4893b523423140aebf76839e86787c25",
            "placeholder": "​",
            "style": "IPY_MODEL_4ebde899df014e429d2fb938c95eab1b",
            "value": " 466k/466k [00:00&lt;00:00, 3.33MB/s]"
          }
        },
        "fb3e72f833554ccdae258830912a007d": {
          "model_module": "@jupyter-widgets/controls",
          "model_module_version": "1.5.0",
          "model_name": "ProgressStyleModel",
          "state": {
            "_model_module": "@jupyter-widgets/controls",
            "_model_module_version": "1.5.0",
            "_model_name": "ProgressStyleModel",
            "_view_count": null,
            "_view_module": "@jupyter-widgets/base",
            "_view_module_version": "1.2.0",
            "_view_name": "StyleView",
            "bar_color": null,
            "description_width": ""
          }
        },
        "fb4a6b858b6c41748ebbc5b1b40bd11a": {
          "model_module": "@jupyter-widgets/controls",
          "model_module_version": "1.5.0",
          "model_name": "ProgressStyleModel",
          "state": {
            "_model_module": "@jupyter-widgets/controls",
            "_model_module_version": "1.5.0",
            "_model_name": "ProgressStyleModel",
            "_view_count": null,
            "_view_module": "@jupyter-widgets/base",
            "_view_module_version": "1.2.0",
            "_view_name": "StyleView",
            "bar_color": null,
            "description_width": ""
          }
        },
        "fc14dd47260d414ab3f6d98e5228e9c7": {
          "model_module": "@jupyter-widgets/controls",
          "model_module_version": "1.5.0",
          "model_name": "HTMLModel",
          "state": {
            "_dom_classes": [],
            "_model_module": "@jupyter-widgets/controls",
            "_model_module_version": "1.5.0",
            "_model_name": "HTMLModel",
            "_view_count": null,
            "_view_module": "@jupyter-widgets/controls",
            "_view_module_version": "1.5.0",
            "_view_name": "HTMLView",
            "description": "",
            "description_tooltip": null,
            "layout": "IPY_MODEL_e9316788f3764a80b02f723e245d2228",
            "placeholder": "​",
            "style": "IPY_MODEL_a488981ba58c49e7ba6a82f050ecde2b",
            "value": "tokenizer_config.json: 100%"
          }
        }
      }
    }
  },
  "nbformat": 4,
  "nbformat_minor": 0
}
