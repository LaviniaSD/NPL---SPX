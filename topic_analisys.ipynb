{
 "cells": [
  {
   "cell_type": "code",
   "execution_count": 141,
   "metadata": {},
   "outputs": [],
   "source": [
    "# Importing libraries\n",
    "import pandas as pd\n",
    "import regex as re\n",
    "import numpy as np\n",
    "import matplotlib.pyplot as plt\n",
    "import seaborn as sns\n",
    "from transformers import BertTokenizer, BertForSequenceClassification\n",
    "from datasets import Dataset\n",
    "import torch\n",
    "from sklearn.feature_extraction.text import TfidfVectorizer\n",
    "from sklearn.cluster import KMeans\n",
    "import nltk\n",
    "from nltk.corpus import stopwords\n",
    "from nltk.tokenize import word_tokenize\n",
    "from nltk.stem import WordNetLemmatizer\n",
    "from langdetect import detect\n",
    "from collections import Counter\n",
    "from sklearn.feature_extraction.text import CountVectorizer\n",
    "import spacy\n"
   ]
  },
  {
   "cell_type": "code",
   "execution_count": 142,
   "metadata": {},
   "outputs": [],
   "source": [
    "# Load data\n",
    "data = pd.read_csv('all_ECB_speeches.csv',sep = '|')"
   ]
  },
  {
   "cell_type": "code",
   "execution_count": 143,
   "metadata": {},
   "outputs": [],
   "source": [
    "# Remove non-english speeches\n",
    "\n",
    "# Function to detect language of a given text\n",
    "def detect_language(text):\n",
    "    try:\n",
    "        lang = detect(text)\n",
    "    except:\n",
    "        lang = \"Unknown\"\n",
    "    return lang\n",
    "\n",
    "# Apply the language detection function to each text in your DataFrame\n",
    "data['language'] = data['contents'].apply(detect_language)\n",
    "\n",
    "# Filter out the texts that are not in English\n",
    "data = data[data['language'] == 'en']\n",
    "\n"
   ]
  },
  {
   "cell_type": "code",
   "execution_count": 144,
   "metadata": {},
   "outputs": [],
   "source": [
    "# Drop null values\n",
    "data = data.dropna(subset=['speakers','contents'])\n",
    "data = data.reset_index(drop=True)\n",
    "\n",
    "# Remove introduction\n",
    "for row in range (data.shape[0]):\n",
    "  speech = re.split(\n",
    "          \" \\d+ (January|February|March|April|May|June|July|August|September|October|November|December) \\d{4} \",\n",
    "          data.loc[row, \"contents\"])\n",
    "  data.loc[row, \"contents\"] = speech[-1]"
   ]
  },
  {
   "cell_type": "code",
   "execution_count": 145,
   "metadata": {},
   "outputs": [],
   "source": [
    "# Split into sentences\n",
    "sentences_list = []\n",
    "for row in range (data.shape[0]):\n",
    "    text = data.loc[row, \"contents\"]\n",
    "    sentences = re.split(r'[.!?]', text)\n",
    "    sentences = [sentence.strip() for sentence in sentences if sentence.strip()]\n",
    "    sentences_list.append(sentences)\n",
    "data['sentences'] = sentences_list\n"
   ]
  },
  {
   "cell_type": "code",
   "execution_count": 146,
   "metadata": {},
   "outputs": [
    {
     "name": "stderr",
     "output_type": "stream",
     "text": [
      "[nltk_data] Downloading package stopwords to\n",
      "[nltk_data]     C:\\Users\\Lavin\\AppData\\Roaming\\nltk_data...\n",
      "[nltk_data]   Package stopwords is already up-to-date!\n",
      "[nltk_data] Downloading package punkt to\n",
      "[nltk_data]     C:\\Users\\Lavin\\AppData\\Roaming\\nltk_data...\n",
      "[nltk_data]   Package punkt is already up-to-date!\n",
      "[nltk_data] Downloading package wordnet to\n",
      "[nltk_data]     C:\\Users\\Lavin\\AppData\\Roaming\\nltk_data...\n",
      "[nltk_data]   Package wordnet is already up-to-date!\n"
     ]
    }
   ],
   "source": [
    "# Remove stopwords and punctuation\n",
    "nltk.download('stopwords')\n",
    "nltk.download('punkt')\n",
    "nltk.download('wordnet')\n",
    "from nltk.corpus import stopwords\n",
    "from nltk.tokenize import word_tokenize\n",
    "from nltk.stem import WordNetLemmatizer\n",
    "stop_words = set(stopwords.words('english'))\n",
    "lemmatizer = WordNetLemmatizer()\n",
    "def preprocess_text(text):\n",
    "    text = re.sub(r'[^\\w\\s]', '', text, re.UNICODE)\n",
    "    text = text.lower()\n",
    "    tokens = word_tokenize(text)\n",
    "    tokens = [lemmatizer.lemmatize(word) for word in tokens]\n",
    "    tokens = [word for word in tokens if word not in stop_words]\n",
    "    return ' '.join(tokens)\n",
    "\n",
    "sentences_list = []\n",
    "for row in range (data.shape[0]):\n",
    "    sentences = data.loc[row, \"sentences\"]\n",
    "    sentences = [preprocess_text(sentence) for sentence in sentences]\n",
    "    sentences_list.append(sentences)\n",
    "\n",
    "data['sentences'] = sentences_list\n"
   ]
  },
  {
   "cell_type": "code",
   "execution_count": 147,
   "metadata": {},
   "outputs": [],
   "source": [
    "# Vectorize the data\n",
    "vectorizer = TfidfVectorizer(stop_words='english')\n",
    "X = vectorizer.fit_transform(data['sentences'].apply(lambda x: ' '.join(x)))"
   ]
  },
  {
   "cell_type": "code",
   "execution_count": 148,
   "metadata": {},
   "outputs": [],
   "source": [
    "def get_top_n_words(corpus, n=10):\n",
    "        vec = CountVectorizer().fit(corpus)\n",
    "        bag_of_words = vec.transform(corpus)\n",
    "        sum_words = bag_of_words.sum(axis=0)\n",
    "        words_freq = [(word, sum_words[0, idx]) for word, idx in vec.vocabulary_.items()]\n",
    "        words_freq = sorted(words_freq, key=lambda x: x[1], reverse=True)\n",
    "        return words_freq[:n]\n",
    "\n",
    "def KMeans_clustering(X,data,num_clusters):\n",
    "    new_df = data.copy()\n",
    "# Determine the number of clusters\n",
    "    # Execute K-means clustering\n",
    "    kmeans = KMeans(n_clusters=num_clusters)\n",
    "    kmeans.fit(X)\n",
    "\n",
    "    # Get cluster labels for each text\n",
    "    cluster_labels = kmeans.labels_\n",
    "\n",
    "    # Add cluster labels to the DataFrame\n",
    "    new_df['cluster'] = cluster_labels\n",
    "\n",
    "    # Identify the most frequent words in each cluster\n",
    "    for i in range(num_clusters):\n",
    "        print(f\"Cluster {i}:\")\n",
    "        corpus = new_df[new_df['cluster'] == i]['sentences'].apply(lambda x: ' '.join(x))\n",
    "        common_words = get_top_n_words(corpus, 10)\n",
    "        print(common_words,'\\n')\n",
    "    return new_df\n",
    "\n",
    "    \n"
   ]
  },
  {
   "cell_type": "code",
   "execution_count": 149,
   "metadata": {},
   "outputs": [
    {
     "name": "stderr",
     "output_type": "stream",
     "text": [
      "c:\\Users\\Lavin\\AppData\\Local\\Programs\\Python\\Python311\\Lib\\site-packages\\sklearn\\cluster\\_kmeans.py:870: FutureWarning: The default value of `n_init` will change from 10 to 'auto' in 1.4. Set the value of `n_init` explicitly to suppress the warning\n",
      "  warnings.warn(\n"
     ]
    },
    {
     "name": "stdout",
     "output_type": "stream",
     "text": [
      "Cluster 0:\n",
      "[('bank', 7267), ('euro', 6024), ('payment', 5533), ('european', 4693), ('financial', 4600), ('market', 4599), ('ha', 4530), ('central', 4271), ('also', 4024), ('area', 3791)] \n",
      "\n",
      "Cluster 1:\n",
      "[('policy', 30376), ('euro', 26144), ('monetary', 24519), ('area', 21401), ('rate', 17543), ('inflation', 16900), ('price', 16447), ('ha', 15824), ('economic', 14458), ('market', 14046)] \n",
      "\n",
      "Cluster 2:\n",
      "[('financial', 22665), ('market', 17222), ('bank', 16346), ('risk', 9383), ('policy', 9213), ('euro', 9205), ('ha', 9029), ('area', 8939), ('banking', 6780), ('crisis', 6495)] \n",
      "\n"
     ]
    }
   ],
   "source": [
    "data_kmeans = KMeans_clustering(X,data,3)\n"
   ]
  },
  {
   "cell_type": "code",
   "execution_count": 150,
   "metadata": {},
   "outputs": [],
   "source": [
    "# Cluster 0 seems to be about interest rates\n",
    "# Cluster 1 seems to be about inflation\n",
    "# Cluster 2 seems to be about Activity\n",
    "data_kmeans['cluster'] = data_kmeans['cluster'].replace({0: 'Interest rates', 1: 'Inflation', 2: 'Activity'})"
   ]
  },
  {
   "cell_type": "code",
   "execution_count": 151,
   "metadata": {},
   "outputs": [],
   "source": [
    "# Classifier using diccionarys\n",
    "# Dictionary of words related to interest rates\n",
    "interest_rates_dict = {\n",
    "    'interest': 1,\n",
    "    'rate': 1,\n",
    "    'central bank': 1,\n",
    "    'monetary policy': 1,\n",
    "    'European Central Bank': 1,\n",
    "    'policy rate': 1,\n",
    "    'benchmark rate': 1,\n",
    "    'ECB': 1,\n",
    "    'ECB President': 1,\n",
    "    'ECB Governing Council': 1,\n",
    "    'yield curve': 1,\n",
    "    'nominal rate': 1,\n",
    "    'real rate': 1,\n",
    "    'prime rate': 1,\n",
    "    'discount rate': 1,\n",
    "    'base rate': 1\n",
    "}\n",
    "\n",
    "# Dictionary of words related to inflation\n",
    "inflation_dict = {\n",
    "    'inflation': 1,\n",
    "    'price level': 1,\n",
    "    'HICP': 1,  # Harmonized Index of Consumer Prices\n",
    "    'consumer price index': 1,\n",
    "    'deflation': 1,\n",
    "    'hyperinflation': 1,\n",
    "    'core inflation': 1,\n",
    "    'inflation target': 1,\n",
    "    'inflation rate': 1,\n",
    "    'inflationary pressures': 1,\n",
    "    'cost-push inflation': 1,\n",
    "    'demand-pull inflation': 1\n",
    "}\n",
    "\n",
    "# Dictionary of words related to economic activity (GDP)\n",
    "economic_activity_dict = {\n",
    "    'GDP': 1,\n",
    "    'economic growth': 1,\n",
    "    'output': 1,\n",
    "    'economic indicators': 1,\n",
    "    'business cycle': 1,\n",
    "    'recession': 1,\n",
    "    'expansion': 1,\n",
    "    'unemployment rate': 1,\n",
    "    'labor market': 1,\n",
    "    'productivity': 1,\n",
    "    'investment': 1,\n",
    "    'consumption': 1,\n",
    "    'exports': 1,\n",
    "    'imports': 1,\n",
    "    'trade balance': 1,\n",
    "    'eurozone': 1,\n",
    "    'European Union': 1,\n",
    "    'euro area': 1,\n",
    "    'Eurostat': 1,\n",
    "    'eurozone economy': 1,\n",
    "    'EU economic policy': 1,\n",
    "    'EU fiscal policy': 1\n",
    "}"
   ]
  },
  {
   "cell_type": "code",
   "execution_count": 152,
   "metadata": {},
   "outputs": [],
   "source": [
    "# Cluster the texts based on the dictionaries\n",
    "def classify_text(text):\n",
    "    scores = [0, 0, 0]\n",
    "    for sentence in text:\n",
    "        interest_rates_score = sum([interest_rates_dict.get(word, 0) for word in sentence.split()])\n",
    "        inflation_score = sum([inflation_dict.get(word, 0) for word in sentence.split()])\n",
    "        economic_activity_score = sum([economic_activity_dict.get(word, 0) for word in sentence.split()])\n",
    "        scores[0] += interest_rates_score\n",
    "        scores[1] += inflation_score\n",
    "        scores[2] += economic_activity_score\n",
    "    if sum(scores) == 0:\n",
    "        return scores, -1\n",
    "    return scores, np.argmax(scores)\n",
    "\n",
    "def Dictionary_clustering(data):\n",
    "    new_df = data.copy()\n",
    "    new_df['scores'] = new_df['sentences'].apply(lambda x: classify_text(x)[0])\n",
    "    new_df['cluster'] = new_df['sentences'].apply(lambda x: classify_text(x)[1])\n",
    "\n",
    "    for i in range(3):\n",
    "        print(f\"Cluster {i}:\")\n",
    "        corpus = new_df[new_df['cluster'] == i]['sentences'].apply(lambda x: ' '.join(x))\n",
    "        common_words = get_top_n_words(corpus, 10)\n",
    "        print(common_words,'\\n')\n",
    "    return new_df\n"
   ]
  },
  {
   "cell_type": "code",
   "execution_count": 153,
   "metadata": {},
   "outputs": [
    {
     "name": "stdout",
     "output_type": "stream",
     "text": [
      "Cluster 0:\n",
      "[('policy', 27508), ('euro', 26830), ('bank', 24109), ('financial', 23747), ('market', 23598), ('monetary', 21580), ('area', 20798), ('ha', 18110), ('rate', 17839), ('central', 12778)] \n",
      "\n",
      "Cluster 1:\n",
      "[('inflation', 10737), ('policy', 9994), ('monetary', 8559), ('price', 7162), ('euro', 6832), ('area', 6262), ('ha', 5111), ('bank', 4862), ('economic', 4463), ('financial', 3893)] \n",
      "\n",
      "Cluster 2:\n",
      "[('financial', 8855), ('market', 7314), ('euro', 6580), ('area', 6422), ('bank', 5652), ('ha', 5259), ('policy', 5123), ('risk', 4503), ('growth', 4377), ('european', 4005)] \n",
      "\n"
     ]
    }
   ],
   "source": [
    "data_dict = Dictionary_clustering(data)"
   ]
  },
  {
   "cell_type": "code",
   "execution_count": 154,
   "metadata": {},
   "outputs": [],
   "source": [
    "# Replace cluster labels with corresponding categories\n",
    "data_dict['cluster'] = data_dict['cluster'].replace({0: 'Interest rates', 1: 'Inflation', 2: 'Activity', -1: 'Unknown'})\n",
    "\n"
   ]
  },
  {
   "cell_type": "code",
   "execution_count": 155,
   "metadata": {},
   "outputs": [
    {
     "data": {
      "image/png": "[encoded data removed]",
      "text/plain": [
       "<Figure size 1000x600 with 1 Axes>"
      ]
     },
     "metadata": {},
     "output_type": "display_data"
    }
   ],
   "source": [
    "# Histogram of the clusters\n",
    "plt.figure(figsize=(10, 6))\n",
    "sns.histplot(data_dict['cluster'], discrete=True, shrink=0.8)\n",
    "plt.title('Number of speeches per cluster (Dictionary-based clustering)')\n",
    "plt.xlabel('Cluster')\n",
    "plt.ylabel('Number of speeches')\n",
    "plt.show()\n"
   ]
  },
  {
   "cell_type": "code",
   "execution_count": 156,
   "metadata": {},
   "outputs": [
    {
     "data": {
      "image/png": "[encoded data removed]",
      "text/plain": [
       "<Figure size 1000x600 with 1 Axes>"
      ]
     },
     "metadata": {},
     "output_type": "display_data"
    }
   ],
   "source": [
    "# Histogram of the clusters\n",
    "plt.figure(figsize=(10, 6))\n",
    "sns.histplot(data_kmeans['cluster'], discrete=True, shrink=0.8)\n",
    "plt.title('Number of speeches per cluster (K-means clustering)')\n",
    "plt.xlabel('Cluster')\n",
    "plt.ylabel('Number of speeches')\n",
    "plt.show()\n"
   ]
  },
  {
   "cell_type": "code",
   "execution_count": 157,
   "metadata": {},
   "outputs": [],
   "source": [
    "# Amount of speeches classified differently by the two methods\n",
    "# Plot in a confusion matrix"
   ]
  }
 ],
 "metadata": {
  "kernelspec": {
   "display_name": "Python 3",
   "language": "python",
   "name": "python3"
  },
  "language_info": {
   "codemirror_mode": {
    "name": "ipython",
    "version": 3
   },
   "file_extension": ".py",
   "mimetype": "text/x-python",
   "name": "python",
   "nbconvert_exporter": "python",
   "pygments_lexer": "ipython3",
   "version": "3.11.1"
  }
 },
 "nbformat": 4,
 "nbformat_minor": 2
}
